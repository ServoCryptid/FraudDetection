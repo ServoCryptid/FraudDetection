{
 "cells": [
  {
   "cell_type": "code",
   "execution_count": 1,
   "metadata": {},
   "outputs": [
    {
     "name": "stderr",
     "output_type": "stream",
     "text": [
      "/usr/lib64/python3.7/site-packages/sklearn/utils/__init__.py:4: DeprecationWarning: Using or importing the ABCs from 'collections' instead of from 'collections.abc' is deprecated since Python 3.3,and in 3.9 it will stop working\n",
      "  from collections import Sequence\n",
      "/usr/lib64/python3.7/site-packages/sklearn/model_selection/_search.py:16: DeprecationWarning: Using or importing the ABCs from 'collections' instead of from 'collections.abc' is deprecated since Python 3.3,and in 3.9 it will stop working\n",
      "  from collections import Mapping, namedtuple, defaultdict, Sequence\n",
      "/usr/lib64/python3.7/site-packages/sklearn/ensemble/weight_boosting.py:29: DeprecationWarning: numpy.core.umath_tests is an internal NumPy module and should not be imported. It will be removed in a future NumPy release.\n",
      "  from numpy.core.umath_tests import inner1d\n"
     ]
    }
   ],
   "source": [
    "import numpy as np\n",
    "import pandas as pd\n",
    "import tensorflow as tf\n",
    "import matplotlib.pyplot as plt\n",
    "import seaborn as sns\n",
    "import datetime\n",
    "import scipy.stats as stats\n",
    "from sklearn.preprocessing import StandardScaler\n",
    "from sklearn.model_selection import train_test_split\n",
    "from sklearn.ensemble import RandomForestClassifier\n",
    "from sklearn.metrics import confusion_matrix\n",
    "from tensorflow.keras.layers import Input, Dense, LeakyReLU, BatchNormalization, Dropout, ReLU, concatenate\n",
    "from tensorflow.keras.optimizers import Adam, Adamax\n",
    "from tensorflow.keras.callbacks import EarlyStopping, ModelCheckpoint, ReduceLROnPlateau, Callback\n",
    "from tensorflow.keras.models import Model, Sequential\n",
    "from sklearn.preprocessing import StandardScaler"
   ]
  },
  {
   "cell_type": "markdown",
   "metadata": {},
   "source": [
    "## Exploratory Data Analysis"
   ]
  },
  {
   "cell_type": "code",
   "execution_count": 2,
   "metadata": {},
   "outputs": [],
   "source": [
    "train_df = pd.read_csv('../train.csv', index_col='id') #set index on 'id' column\n",
    "test_df = pd.read_csv('../test.csv', index_col='id')"
   ]
  },
  {
   "cell_type": "code",
   "execution_count": 3,
   "metadata": {
    "scrolled": true
   },
   "outputs": [
    {
     "data": {
      "text/html": [
       "<div>\n",
       "<style scoped>\n",
       "    .dataframe tbody tr th:only-of-type {\n",
       "        vertical-align: middle;\n",
       "    }\n",
       "\n",
       "    .dataframe tbody tr th {\n",
       "        vertical-align: top;\n",
       "    }\n",
       "\n",
       "    .dataframe thead th {\n",
       "        text-align: right;\n",
       "    }\n",
       "</style>\n",
       "<table border=\"1\" class=\"dataframe\">\n",
       "  <thead>\n",
       "    <tr style=\"text-align: right;\">\n",
       "      <th></th>\n",
       "      <th>amount_value</th>\n",
       "      <th>amount_currency</th>\n",
       "      <th>channel</th>\n",
       "      <th>deviceDetails_browser</th>\n",
       "      <th>deviceDetails_device</th>\n",
       "      <th>deviceDetails_deviceIp</th>\n",
       "      <th>merchantRefTransactionId</th>\n",
       "      <th>paymentMethod_apmType</th>\n",
       "      <th>paymentMethod_cardNumber</th>\n",
       "      <th>paymentMethod_cardType</th>\n",
       "      <th>paymentMethod_cardSubType</th>\n",
       "      <th>paymentMethod_cvv</th>\n",
       "      <th>paymentMethod_encodedPaymentToken</th>\n",
       "      <th>paymentMethod_expiryMonth</th>\n",
       "      <th>paymentMethod_expiryYear</th>\n",
       "      <th>transaction_time</th>\n",
       "      <th>class</th>\n",
       "    </tr>\n",
       "    <tr>\n",
       "      <th>id</th>\n",
       "      <th></th>\n",
       "      <th></th>\n",
       "      <th></th>\n",
       "      <th></th>\n",
       "      <th></th>\n",
       "      <th></th>\n",
       "      <th></th>\n",
       "      <th></th>\n",
       "      <th></th>\n",
       "      <th></th>\n",
       "      <th></th>\n",
       "      <th></th>\n",
       "      <th></th>\n",
       "      <th></th>\n",
       "      <th></th>\n",
       "      <th></th>\n",
       "      <th></th>\n",
       "    </tr>\n",
       "  </thead>\n",
       "  <tbody>\n",
       "    <tr>\n",
       "      <th>0</th>\n",
       "      <td>18253.30</td>\n",
       "      <td>USD</td>\n",
       "      <td>virtual</td>\n",
       "      <td>edge</td>\n",
       "      <td>pos</td>\n",
       "      <td>134.93.42.168</td>\n",
       "      <td>544011954</td>\n",
       "      <td>magstripe</td>\n",
       "      <td>2174-3628-6995-3987</td>\n",
       "      <td>JCB</td>\n",
       "      <td>Student</td>\n",
       "      <td>61</td>\n",
       "      <td>szQSTkeL</td>\n",
       "      <td>6</td>\n",
       "      <td>2027</td>\n",
       "      <td>2020-08-30 05:21:24</td>\n",
       "      <td>0</td>\n",
       "    </tr>\n",
       "    <tr>\n",
       "      <th>1</th>\n",
       "      <td>15870.89</td>\n",
       "      <td>USD</td>\n",
       "      <td>virtual</td>\n",
       "      <td>chrome</td>\n",
       "      <td>pos</td>\n",
       "      <td>78.92.229.26</td>\n",
       "      <td>9718272187</td>\n",
       "      <td>nfcc</td>\n",
       "      <td>4498-2553-8930-9552</td>\n",
       "      <td>JCB</td>\n",
       "      <td>Student</td>\n",
       "      <td>200</td>\n",
       "      <td>fdptXXrc</td>\n",
       "      <td>1</td>\n",
       "      <td>2026</td>\n",
       "      <td>2020-09-03 23:21:01</td>\n",
       "      <td>0</td>\n",
       "    </tr>\n",
       "    <tr>\n",
       "      <th>2</th>\n",
       "      <td>41109.80</td>\n",
       "      <td>USD</td>\n",
       "      <td>online</td>\n",
       "      <td>chromio</td>\n",
       "      <td>pos</td>\n",
       "      <td>197.84.118.231</td>\n",
       "      <td>1659938058</td>\n",
       "      <td>magstripe</td>\n",
       "      <td>8246-8688-8907-4387</td>\n",
       "      <td>JCB</td>\n",
       "      <td>Prepaid</td>\n",
       "      <td>259</td>\n",
       "      <td>UTXzvode</td>\n",
       "      <td>0</td>\n",
       "      <td>2021</td>\n",
       "      <td>2020-08-03 11:43:53</td>\n",
       "      <td>1</td>\n",
       "    </tr>\n",
       "    <tr>\n",
       "      <th>3</th>\n",
       "      <td>70604.95</td>\n",
       "      <td>USD</td>\n",
       "      <td>virtual</td>\n",
       "      <td>chrome</td>\n",
       "      <td>mobile</td>\n",
       "      <td>192.113.64.253</td>\n",
       "      <td>986924301</td>\n",
       "      <td>magstripe</td>\n",
       "      <td>3563-5044-6927-1494</td>\n",
       "      <td>JCB</td>\n",
       "      <td>Business</td>\n",
       "      <td>685</td>\n",
       "      <td>gVRZqrdu</td>\n",
       "      <td>7</td>\n",
       "      <td>2023</td>\n",
       "      <td>2020-07-22 04:28:32</td>\n",
       "      <td>0</td>\n",
       "    </tr>\n",
       "    <tr>\n",
       "      <th>4</th>\n",
       "      <td>51216.66</td>\n",
       "      <td>USD</td>\n",
       "      <td>virtual</td>\n",
       "      <td>chrome</td>\n",
       "      <td>mobile</td>\n",
       "      <td>48.81.200.252</td>\n",
       "      <td>9399699174</td>\n",
       "      <td>nfcc</td>\n",
       "      <td>4253-0351-2318-7737</td>\n",
       "      <td>JCB</td>\n",
       "      <td>Business</td>\n",
       "      <td>131</td>\n",
       "      <td>FGZLLHSX</td>\n",
       "      <td>6</td>\n",
       "      <td>2025</td>\n",
       "      <td>2020-02-29 13:35:21</td>\n",
       "      <td>0</td>\n",
       "    </tr>\n",
       "  </tbody>\n",
       "</table>\n",
       "</div>"
      ],
      "text/plain": [
       "    amount_value amount_currency  channel deviceDetails_browser  \\\n",
       "id                                                                \n",
       "0       18253.30             USD  virtual                  edge   \n",
       "1       15870.89             USD  virtual                chrome   \n",
       "2       41109.80             USD   online               chromio   \n",
       "3       70604.95             USD  virtual                chrome   \n",
       "4       51216.66             USD  virtual                chrome   \n",
       "\n",
       "   deviceDetails_device deviceDetails_deviceIp  merchantRefTransactionId  \\\n",
       "id                                                                         \n",
       "0                   pos          134.93.42.168                 544011954   \n",
       "1                   pos           78.92.229.26                9718272187   \n",
       "2                   pos         197.84.118.231                1659938058   \n",
       "3                mobile         192.113.64.253                 986924301   \n",
       "4                mobile          48.81.200.252                9399699174   \n",
       "\n",
       "   paymentMethod_apmType paymentMethod_cardNumber paymentMethod_cardType  \\\n",
       "id                                                                         \n",
       "0             magstripe       2174-3628-6995-3987                    JCB   \n",
       "1                   nfcc      4498-2553-8930-9552                    JCB   \n",
       "2             magstripe       8246-8688-8907-4387                    JCB   \n",
       "3             magstripe       3563-5044-6927-1494                    JCB   \n",
       "4                   nfcc      4253-0351-2318-7737                    JCB   \n",
       "\n",
       "   paymentMethod_cardSubType  paymentMethod_cvv  \\\n",
       "id                                                \n",
       "0                    Student                 61   \n",
       "1                    Student                200   \n",
       "2                   Prepaid                 259   \n",
       "3                  Business                 685   \n",
       "4                  Business                 131   \n",
       "\n",
       "   paymentMethod_encodedPaymentToken  paymentMethod_expiryMonth  \\\n",
       "id                                                                \n",
       "0                           szQSTkeL                          6   \n",
       "1                           fdptXXrc                          1   \n",
       "2                           UTXzvode                          0   \n",
       "3                           gVRZqrdu                          7   \n",
       "4                           FGZLLHSX                          6   \n",
       "\n",
       "    paymentMethod_expiryYear     transaction_time  class  \n",
       "id                                                        \n",
       "0                       2027  2020-08-30 05:21:24      0  \n",
       "1                       2026  2020-09-03 23:21:01      0  \n",
       "2                       2021  2020-08-03 11:43:53      1  \n",
       "3                       2023  2020-07-22 04:28:32      0  \n",
       "4                       2025  2020-02-29 13:35:21      0  "
      ]
     },
     "execution_count": 3,
     "metadata": {},
     "output_type": "execute_result"
    }
   ],
   "source": [
    "train_df.head()"
   ]
  },
  {
   "cell_type": "code",
   "execution_count": 4,
   "metadata": {
    "scrolled": true
   },
   "outputs": [
    {
     "data": {
      "text/html": [
       "<div>\n",
       "<style scoped>\n",
       "    .dataframe tbody tr th:only-of-type {\n",
       "        vertical-align: middle;\n",
       "    }\n",
       "\n",
       "    .dataframe tbody tr th {\n",
       "        vertical-align: top;\n",
       "    }\n",
       "\n",
       "    .dataframe thead th {\n",
       "        text-align: right;\n",
       "    }\n",
       "</style>\n",
       "<table border=\"1\" class=\"dataframe\">\n",
       "  <thead>\n",
       "    <tr style=\"text-align: right;\">\n",
       "      <th></th>\n",
       "      <th>amount_value</th>\n",
       "      <th>amount_currency</th>\n",
       "      <th>channel</th>\n",
       "      <th>deviceDetails_browser</th>\n",
       "      <th>deviceDetails_device</th>\n",
       "      <th>deviceDetails_deviceIp</th>\n",
       "      <th>merchantRefTransactionId</th>\n",
       "      <th>paymentMethod_apmType</th>\n",
       "      <th>paymentMethod_cardNumber</th>\n",
       "      <th>paymentMethod_cardType</th>\n",
       "      <th>paymentMethod_cardSubType</th>\n",
       "      <th>paymentMethod_cvv</th>\n",
       "      <th>paymentMethod_encodedPaymentToken</th>\n",
       "      <th>paymentMethod_expiryMonth</th>\n",
       "      <th>paymentMethod_expiryYear</th>\n",
       "      <th>transaction_time</th>\n",
       "      <th>class</th>\n",
       "    </tr>\n",
       "    <tr>\n",
       "      <th>id</th>\n",
       "      <th></th>\n",
       "      <th></th>\n",
       "      <th></th>\n",
       "      <th></th>\n",
       "      <th></th>\n",
       "      <th></th>\n",
       "      <th></th>\n",
       "      <th></th>\n",
       "      <th></th>\n",
       "      <th></th>\n",
       "      <th></th>\n",
       "      <th></th>\n",
       "      <th></th>\n",
       "      <th></th>\n",
       "      <th></th>\n",
       "      <th></th>\n",
       "      <th></th>\n",
       "    </tr>\n",
       "  </thead>\n",
       "  <tbody>\n",
       "    <tr>\n",
       "      <th>0</th>\n",
       "      <td>85621.45</td>\n",
       "      <td>USD</td>\n",
       "      <td>virtual</td>\n",
       "      <td>chrome</td>\n",
       "      <td>pos</td>\n",
       "      <td>225.76.238.186</td>\n",
       "      <td>2534859727</td>\n",
       "      <td>magstripe</td>\n",
       "      <td>6444-9854-4855-9248</td>\n",
       "      <td>Discover</td>\n",
       "      <td>Student</td>\n",
       "      <td>394</td>\n",
       "      <td>uCuKsvrW</td>\n",
       "      <td>0</td>\n",
       "      <td>2024</td>\n",
       "      <td>2020-09-05 23:30:39</td>\n",
       "      <td>1</td>\n",
       "    </tr>\n",
       "    <tr>\n",
       "      <th>1</th>\n",
       "      <td>6885.37</td>\n",
       "      <td>USD</td>\n",
       "      <td>online</td>\n",
       "      <td>edge</td>\n",
       "      <td>pos</td>\n",
       "      <td>22.235.47.168</td>\n",
       "      <td>3373234617</td>\n",
       "      <td>magstripe</td>\n",
       "      <td>7374-1462-5965-4580</td>\n",
       "      <td>JCB</td>\n",
       "      <td>Business</td>\n",
       "      <td>480</td>\n",
       "      <td>lVYWecct</td>\n",
       "      <td>9</td>\n",
       "      <td>2021</td>\n",
       "      <td>2020-08-04 07:08:00</td>\n",
       "      <td>0</td>\n",
       "    </tr>\n",
       "    <tr>\n",
       "      <th>2</th>\n",
       "      <td>60146.36</td>\n",
       "      <td>USD</td>\n",
       "      <td>virtual</td>\n",
       "      <td>edge</td>\n",
       "      <td>pos</td>\n",
       "      <td>34.50.211.154</td>\n",
       "      <td>4596280497</td>\n",
       "      <td>chip</td>\n",
       "      <td>2366-2404-8271-1630</td>\n",
       "      <td>Discover</td>\n",
       "      <td>Student</td>\n",
       "      <td>263</td>\n",
       "      <td>iXTHSnGH</td>\n",
       "      <td>11</td>\n",
       "      <td>2022</td>\n",
       "      <td>2020-08-02 18:52:19</td>\n",
       "      <td>0</td>\n",
       "    </tr>\n",
       "    <tr>\n",
       "      <th>3</th>\n",
       "      <td>40372.97</td>\n",
       "      <td>USD</td>\n",
       "      <td>virtual</td>\n",
       "      <td>edge</td>\n",
       "      <td>mobile</td>\n",
       "      <td>35.47.40.5</td>\n",
       "      <td>7486781647</td>\n",
       "      <td>magstripe</td>\n",
       "      <td>1528-9270-7336-2735</td>\n",
       "      <td>Visa</td>\n",
       "      <td>Business</td>\n",
       "      <td>469</td>\n",
       "      <td>nFnmjYWb</td>\n",
       "      <td>1</td>\n",
       "      <td>2027</td>\n",
       "      <td>2020-06-24 18:42:29</td>\n",
       "      <td>1</td>\n",
       "    </tr>\n",
       "    <tr>\n",
       "      <th>4</th>\n",
       "      <td>43803.75</td>\n",
       "      <td>USD</td>\n",
       "      <td>virtual</td>\n",
       "      <td>chrome</td>\n",
       "      <td>pos</td>\n",
       "      <td>247.164.216.72</td>\n",
       "      <td>8375107852</td>\n",
       "      <td>nfcc</td>\n",
       "      <td>8977-0947-5649-8057</td>\n",
       "      <td>Visa</td>\n",
       "      <td>Student</td>\n",
       "      <td>162</td>\n",
       "      <td>gMcMMAuC</td>\n",
       "      <td>4</td>\n",
       "      <td>2026</td>\n",
       "      <td>2020-03-19 18:53:16</td>\n",
       "      <td>1</td>\n",
       "    </tr>\n",
       "  </tbody>\n",
       "</table>\n",
       "</div>"
      ],
      "text/plain": [
       "    amount_value amount_currency  channel deviceDetails_browser  \\\n",
       "id                                                                \n",
       "0       85621.45             USD  virtual                chrome   \n",
       "1        6885.37             USD   online                  edge   \n",
       "2       60146.36             USD  virtual                  edge   \n",
       "3       40372.97             USD  virtual                  edge   \n",
       "4       43803.75             USD  virtual                chrome   \n",
       "\n",
       "   deviceDetails_device deviceDetails_deviceIp  merchantRefTransactionId  \\\n",
       "id                                                                         \n",
       "0                   pos         225.76.238.186                2534859727   \n",
       "1                   pos          22.235.47.168                3373234617   \n",
       "2                   pos          34.50.211.154                4596280497   \n",
       "3                mobile             35.47.40.5                7486781647   \n",
       "4                   pos         247.164.216.72                8375107852   \n",
       "\n",
       "   paymentMethod_apmType paymentMethod_cardNumber paymentMethod_cardType  \\\n",
       "id                                                                         \n",
       "0             magstripe       6444-9854-4855-9248              Discover    \n",
       "1             magstripe       7374-1462-5965-4580                    JCB   \n",
       "2                   chip      2366-2404-8271-1630              Discover    \n",
       "3             magstripe       1528-9270-7336-2735                  Visa    \n",
       "4                   nfcc      8977-0947-5649-8057                  Visa    \n",
       "\n",
       "   paymentMethod_cardSubType  paymentMethod_cvv  \\\n",
       "id                                                \n",
       "0                    Student                394   \n",
       "1                  Business                 480   \n",
       "2                    Student                263   \n",
       "3                  Business                 469   \n",
       "4                    Student                162   \n",
       "\n",
       "   paymentMethod_encodedPaymentToken  paymentMethod_expiryMonth  \\\n",
       "id                                                                \n",
       "0                           uCuKsvrW                          0   \n",
       "1                           lVYWecct                          9   \n",
       "2                           iXTHSnGH                         11   \n",
       "3                           nFnmjYWb                          1   \n",
       "4                           gMcMMAuC                          4   \n",
       "\n",
       "    paymentMethod_expiryYear     transaction_time  class  \n",
       "id                                                        \n",
       "0                       2024  2020-09-05 23:30:39      1  \n",
       "1                       2021  2020-08-04 07:08:00      0  \n",
       "2                       2022  2020-08-02 18:52:19      0  \n",
       "3                       2027  2020-06-24 18:42:29      1  \n",
       "4                       2026  2020-03-19 18:53:16      1  "
      ]
     },
     "execution_count": 4,
     "metadata": {},
     "output_type": "execute_result"
    }
   ],
   "source": [
    "test_df.head()"
   ]
  },
  {
   "cell_type": "code",
   "execution_count": 5,
   "metadata": {},
   "outputs": [
    {
     "data": {
      "text/plain": [
       "(100000, 17)"
      ]
     },
     "execution_count": 5,
     "metadata": {},
     "output_type": "execute_result"
    }
   ],
   "source": [
    "train_df.shape"
   ]
  },
  {
   "cell_type": "code",
   "execution_count": 6,
   "metadata": {},
   "outputs": [
    {
     "data": {
      "text/plain": [
       "(10000, 17)"
      ]
     },
     "execution_count": 6,
     "metadata": {},
     "output_type": "execute_result"
    }
   ],
   "source": [
    "test_df.shape"
   ]
  },
  {
   "cell_type": "markdown",
   "metadata": {},
   "source": [
    "- convert transaction_time into timestamp format"
   ]
  },
  {
   "cell_type": "code",
   "execution_count": 7,
   "metadata": {},
   "outputs": [],
   "source": [
    "initial_time = list(train_df['transaction_time'])"
   ]
  },
  {
   "cell_type": "code",
   "execution_count": 8,
   "metadata": {},
   "outputs": [],
   "source": [
    "time_in_seconds = []\n",
    "for time_val in initial_time:\n",
    "    date_time_obj = datetime.datetime.strptime(time_val, '%Y-%m-%d %H:%M:%S')\n",
    "    time_in_seconds.append(date_time_obj.timestamp())"
   ]
  },
  {
   "cell_type": "code",
   "execution_count": 9,
   "metadata": {},
   "outputs": [],
   "source": [
    "train_df = train_df.assign(time_in_seconds = time_in_seconds)"
   ]
  },
  {
   "cell_type": "markdown",
   "metadata": {},
   "source": [
    "- compute the difference between the older transaction and the others, time based"
   ]
  },
  {
   "cell_type": "code",
   "execution_count": 10,
   "metadata": {},
   "outputs": [],
   "source": [
    "dif_time = []\n",
    "the_older_trans_date = min(time_in_seconds)\n",
    "for time_val in time_in_seconds:\n",
    "    delta = time_val - the_older_trans_date\n",
    "    dif_time.append(delta)"
   ]
  },
  {
   "cell_type": "code",
   "execution_count": 11,
   "metadata": {},
   "outputs": [],
   "source": [
    "train_df = train_df.assign(time_dif = dif_time)"
   ]
  },
  {
   "cell_type": "code",
   "execution_count": 12,
   "metadata": {},
   "outputs": [],
   "source": [
    "train_df.sort_values(by=['time_dif'], inplace=True)"
   ]
  },
  {
   "cell_type": "markdown",
   "metadata": {},
   "source": [
    "- normalize time_dif column and save to norm_time_dif, same for amount_value - stored in norm_amount"
   ]
  },
  {
   "cell_type": "code",
   "execution_count": 13,
   "metadata": {},
   "outputs": [],
   "source": [
    "train_df['norm_time_dif'] = StandardScaler().fit_transform(train_df[['time_dif']])"
   ]
  },
  {
   "cell_type": "code",
   "execution_count": 14,
   "metadata": {},
   "outputs": [],
   "source": [
    "train_df['norm_amount'] = StandardScaler().fit_transform(train_df[['amount_value']])"
   ]
  },
  {
   "cell_type": "code",
   "execution_count": 15,
   "metadata": {},
   "outputs": [],
   "source": [
    "numerical_columns = ['merchantRefTransactionId', 'paymentMethod_cvv', 'paymentMethod_expiryMonth', 'paymentMethod_expiryYear',\n",
    "                     'amount_value', 'time_in_seconds', 'time_dif', 'norm_time_dif', 'norm_amount', 'transaction_time']"
   ]
  },
  {
   "cell_type": "code",
   "execution_count": 16,
   "metadata": {},
   "outputs": [],
   "source": [
    "categorical = []\n",
    "for column in train_df.columns:\n",
    "    if column not in numerical_columns:\n",
    "        categorical.append(column)"
   ]
  },
  {
   "cell_type": "code",
   "execution_count": 17,
   "metadata": {},
   "outputs": [
    {
     "data": {
      "text/plain": [
       "['amount_currency',\n",
       " 'channel',\n",
       " 'deviceDetails_browser',\n",
       " 'deviceDetails_device',\n",
       " 'deviceDetails_deviceIp',\n",
       " 'paymentMethod_apmType',\n",
       " 'paymentMethod_cardNumber',\n",
       " 'paymentMethod_cardType',\n",
       " 'paymentMethod_cardSubType',\n",
       " 'paymentMethod_encodedPaymentToken',\n",
       " 'class']"
      ]
     },
     "execution_count": 17,
     "metadata": {},
     "output_type": "execute_result"
    }
   ],
   "source": [
    "categorical"
   ]
  },
  {
   "cell_type": "code",
   "execution_count": 18,
   "metadata": {},
   "outputs": [],
   "source": [
    "categorical.remove('class')"
   ]
  },
  {
   "cell_type": "code",
   "execution_count": 19,
   "metadata": {},
   "outputs": [],
   "source": [
    "categorical.remove('amount_currency')"
   ]
  },
  {
   "cell_type": "code",
   "execution_count": 20,
   "metadata": {},
   "outputs": [],
   "source": [
    "categorical.remove('deviceDetails_deviceIp')\n",
    "categorical.remove('paymentMethod_cardNumber')"
   ]
  },
  {
   "cell_type": "code",
   "execution_count": 21,
   "metadata": {},
   "outputs": [],
   "source": [
    "categorical.remove('paymentMethod_encodedPaymentToken')"
   ]
  },
  {
   "cell_type": "code",
   "execution_count": 22,
   "metadata": {},
   "outputs": [
    {
     "data": {
      "text/plain": [
       "['channel',\n",
       " 'deviceDetails_browser',\n",
       " 'deviceDetails_device',\n",
       " 'paymentMethod_apmType',\n",
       " 'paymentMethod_cardType',\n",
       " 'paymentMethod_cardSubType']"
      ]
     },
     "execution_count": 22,
     "metadata": {},
     "output_type": "execute_result"
    }
   ],
   "source": [
    "categorical"
   ]
  },
  {
   "cell_type": "code",
   "execution_count": 23,
   "metadata": {},
   "outputs": [],
   "source": [
    "train_df[categorical] = train_df[categorical].astype('category')"
   ]
  },
  {
   "cell_type": "code",
   "execution_count": 24,
   "metadata": {},
   "outputs": [],
   "source": [
    "encoded_categorical_feats = pd.DataFrame()\n",
    "for col in categorical:\n",
    "    train_df[col] = train_df[col].cat.codes"
   ]
  },
  {
   "cell_type": "code",
   "execution_count": 25,
   "metadata": {},
   "outputs": [],
   "source": [
    "classes = train_df['class'].values"
   ]
  },
  {
   "cell_type": "code",
   "execution_count": 26,
   "metadata": {},
   "outputs": [],
   "source": [
    "to_drop = ['amount_currency', 'deviceDetails_deviceIp', 'merchantRefTransactionId', \n",
    "           'paymentMethod_cardNumber', 'paymentMethod_encodedPaymentToken',\n",
    "          'transaction_time', 'class', 'norm_time_dif', 'norm_amount']"
   ]
  },
  {
   "cell_type": "code",
   "execution_count": 27,
   "metadata": {},
   "outputs": [],
   "source": [
    "train_df.drop(columns=to_drop, inplace=True)"
   ]
  },
  {
   "cell_type": "code",
   "execution_count": 28,
   "metadata": {},
   "outputs": [],
   "source": [
    "x_train, x_val, y_train, y_val = train_test_split(train_df, \n",
    "                                                  classes,\n",
    "                                                  test_size=0.25,\n",
    "                                                  stratify=classes,\n",
    "                                                  shuffle=True)"
   ]
  },
  {
   "cell_type": "code",
   "execution_count": 29,
   "metadata": {},
   "outputs": [],
   "source": [
    "scaler = StandardScaler()\n",
    "x_train = scaler.fit_transform(x_train)\n",
    "x_val = scaler.fit_transform(x_val)"
   ]
  },
  {
   "cell_type": "code",
   "execution_count": 30,
   "metadata": {},
   "outputs": [
    {
     "data": {
      "text/plain": [
       "75000"
      ]
     },
     "execution_count": 30,
     "metadata": {},
     "output_type": "execute_result"
    }
   ],
   "source": [
    "len(x_train)"
   ]
  },
  {
   "cell_type": "code",
   "execution_count": 31,
   "metadata": {},
   "outputs": [
    {
     "data": {
      "text/plain": [
       "(75000, 12)"
      ]
     },
     "execution_count": 31,
     "metadata": {},
     "output_type": "execute_result"
    }
   ],
   "source": [
    "x_train.shape"
   ]
  },
  {
   "cell_type": "code",
   "execution_count": 32,
   "metadata": {},
   "outputs": [],
   "source": [
    "inp = Input(shape=(x_train.shape[1],), name='inp')\n",
    "l1 = Dense(32, activation='relu', name='l1', use_bias=False)(inp)\n",
    "otp = Dense(1, activation='sigmoid', name='otp')(l1)"
   ]
  },
  {
   "cell_type": "code",
   "execution_count": 33,
   "metadata": {},
   "outputs": [],
   "source": [
    "model = Model(inputs=inp, outputs=otp)\n",
    "model.compile(optimizer='adam', loss='binary_crossentropy', metrics=['accuracy'])"
   ]
  },
  {
   "cell_type": "code",
   "execution_count": 34,
   "metadata": {},
   "outputs": [],
   "source": [
    "callbacks = []\n",
    "callbacks.append(EarlyStopping(monitor='val_loss', min_delta=0, mode='auto', patience=1))\n",
    "callbacks.append(ModelCheckpoint('models/nn_model_4.h5',\n",
    "                                 monitor='val_acc',\n",
    "                                 save_weights_only=False, \n",
    "                                 save_best_only=True,\n",
    "                                 mode='auto'))"
   ]
  },
  {
   "cell_type": "code",
   "execution_count": 35,
   "metadata": {},
   "outputs": [
    {
     "name": "stdout",
     "output_type": "stream",
     "text": [
      "Epoch 1/20\n",
      "1172/1172 [==============================] - 2s 1ms/step - loss: 0.7012 - accuracy: 0.4988 - val_loss: 0.6938 - val_accuracy: 0.5008\n",
      "WARNING:tensorflow:Can save best model only with val_acc available, skipping.\n",
      "Epoch 2/20\n",
      "1172/1172 [==============================] - 1s 1ms/step - loss: 0.6942 - accuracy: 0.5023 - val_loss: 0.6942 - val_accuracy: 0.4976\n",
      "WARNING:tensorflow:Can save best model only with val_acc available, skipping.\n"
     ]
    },
    {
     "data": {
      "text/plain": [
       "<tensorflow.python.keras.callbacks.History at 0x7fd54d8efe10>"
      ]
     },
     "execution_count": 35,
     "metadata": {},
     "output_type": "execute_result"
    }
   ],
   "source": [
    "model.fit(x_train, y_train, epochs=20, verbose=1,\n",
    "          validation_data=(x_val, y_val), batch_size=64,\n",
    "          shuffle=True, callbacks=callbacks, initial_epoch=0)"
   ]
  },
  {
   "cell_type": "code",
   "execution_count": 36,
   "metadata": {},
   "outputs": [
    {
     "name": "stdout",
     "output_type": "stream",
     "text": [
      "2344/2344 [==============================] - 2s 834us/step - loss: 0.6932 - accuracy: 0.5082\n"
     ]
    },
    {
     "data": {
      "text/plain": [
       "[0.6931957006454468, 0.5082266926765442]"
      ]
     },
     "execution_count": 36,
     "metadata": {},
     "output_type": "execute_result"
    }
   ],
   "source": [
    "model.evaluate(x_train, y_train)"
   ]
  },
  {
   "cell_type": "code",
   "execution_count": 37,
   "metadata": {},
   "outputs": [
    {
     "name": "stdout",
     "output_type": "stream",
     "text": [
      "782/782 [==============================] - 1s 764us/step - loss: 0.6942 - accuracy: 0.4976\n"
     ]
    },
    {
     "data": {
      "text/plain": [
       "[0.694208025932312, 0.4976400136947632]"
      ]
     },
     "execution_count": 37,
     "metadata": {},
     "output_type": "execute_result"
    }
   ],
   "source": [
    "model.evaluate(x_val, y_val)"
   ]
  },
  {
   "cell_type": "code",
   "execution_count": 38,
   "metadata": {},
   "outputs": [
    {
     "data": {
      "text/plain": [
       "<matplotlib.axes._subplots.AxesSubplot at 0x7fd54c24afd0>"
      ]
     },
     "execution_count": 38,
     "metadata": {},
     "output_type": "execute_result"
    },
    {
     "data": {
      "image/png": "[encoded data removed]",
      "text/plain": [
       "<Figure size 576x576 with 2 Axes>"
      ]
     },
     "metadata": {
      "needs_background": "light"
     },
     "output_type": "display_data"
    }
   ],
   "source": [
    "pred_model = model.predict(x_val)\n",
    "cm = confusion_matrix(y_val, pred_model.round())\n",
    "fig, ax = plt.subplots(figsize=(8,8))\n",
    "sns.heatmap(cm/np.sum(cm), annot=True, fmt='.2f')"
   ]
  },
  {
   "cell_type": "markdown",
   "metadata": {},
   "source": [
    "## RandomForest for features importance "
   ]
  },
  {
   "cell_type": "code",
   "execution_count": 39,
   "metadata": {},
   "outputs": [],
   "source": [
    "rf = RandomForestClassifier(n_estimators=300)"
   ]
  },
  {
   "cell_type": "code",
   "execution_count": 40,
   "metadata": {},
   "outputs": [
    {
     "name": "stdout",
     "output_type": "stream",
     "text": [
      "CPU times: user 52.7 s, sys: 288 ms, total: 52.9 s\n",
      "Wall time: 53.1 s\n"
     ]
    },
    {
     "data": {
      "text/plain": [
       "RandomForestClassifier(bootstrap=True, class_weight=None, criterion='gini',\n",
       "            max_depth=None, max_features='auto', max_leaf_nodes=None,\n",
       "            min_impurity_decrease=0.0, min_impurity_split=None,\n",
       "            min_samples_leaf=1, min_samples_split=2,\n",
       "            min_weight_fraction_leaf=0.0, n_estimators=300, n_jobs=1,\n",
       "            oob_score=False, random_state=None, verbose=0,\n",
       "            warm_start=False)"
      ]
     },
     "execution_count": 40,
     "metadata": {},
     "output_type": "execute_result"
    }
   ],
   "source": [
    "%time rf.fit(x_train, y_train)"
   ]
  },
  {
   "cell_type": "code",
   "execution_count": 41,
   "metadata": {},
   "outputs": [
    {
     "data": {
      "text/plain": [
       "<matplotlib.axes._subplots.AxesSubplot at 0x7fd53c7d3a50>"
      ]
     },
     "execution_count": 41,
     "metadata": {},
     "output_type": "execute_result"
    },
    {
     "data": {
      "image/png": "[encoded data removed]",
      "text/plain": [
       "<Figure size 576x576 with 2 Axes>"
      ]
     },
     "metadata": {
      "needs_background": "light"
     },
     "output_type": "display_data"
    }
   ],
   "source": [
    "pred_rf = rf.predict(x_val)\n",
    "y_rf = y_val\n",
    "cm = confusion_matrix(y_rf, pred_rf)\n",
    "fig, ax = plt.subplots(figsize=(8,8))\n",
    "sns.heatmap(cm/np.sum(cm), annot=True, fmt='.2f')"
   ]
  },
  {
   "cell_type": "code",
   "execution_count": 42,
   "metadata": {},
   "outputs": [
    {
     "data": {
      "text/html": [
       "<div>\n",
       "<style scoped>\n",
       "    .dataframe tbody tr th:only-of-type {\n",
       "        vertical-align: middle;\n",
       "    }\n",
       "\n",
       "    .dataframe tbody tr th {\n",
       "        vertical-align: top;\n",
       "    }\n",
       "\n",
       "    .dataframe thead th {\n",
       "        text-align: right;\n",
       "    }\n",
       "</style>\n",
       "<table border=\"1\" class=\"dataframe\">\n",
       "  <thead>\n",
       "    <tr style=\"text-align: right;\">\n",
       "      <th></th>\n",
       "      <th>feat_name</th>\n",
       "      <th>imp</th>\n",
       "    </tr>\n",
       "  </thead>\n",
       "  <tbody>\n",
       "    <tr>\n",
       "      <th>0</th>\n",
       "      <td>amount_value</td>\n",
       "      <td>0.171530</td>\n",
       "    </tr>\n",
       "    <tr>\n",
       "      <th>7</th>\n",
       "      <td>paymentMethod_cvv</td>\n",
       "      <td>0.165859</td>\n",
       "    </tr>\n",
       "    <tr>\n",
       "      <th>10</th>\n",
       "      <td>time_in_seconds</td>\n",
       "      <td>0.153928</td>\n",
       "    </tr>\n",
       "    <tr>\n",
       "      <th>11</th>\n",
       "      <td>time_dif</td>\n",
       "      <td>0.153857</td>\n",
       "    </tr>\n",
       "    <tr>\n",
       "      <th>8</th>\n",
       "      <td>paymentMethod_expiryMonth</td>\n",
       "      <td>0.081268</td>\n",
       "    </tr>\n",
       "    <tr>\n",
       "      <th>9</th>\n",
       "      <td>paymentMethod_expiryYear</td>\n",
       "      <td>0.076518</td>\n",
       "    </tr>\n",
       "    <tr>\n",
       "      <th>5</th>\n",
       "      <td>paymentMethod_cardType</td>\n",
       "      <td>0.041040</td>\n",
       "    </tr>\n",
       "    <tr>\n",
       "      <th>6</th>\n",
       "      <td>paymentMethod_cardSubType</td>\n",
       "      <td>0.036178</td>\n",
       "    </tr>\n",
       "    <tr>\n",
       "      <th>2</th>\n",
       "      <td>deviceDetails_browser</td>\n",
       "      <td>0.033120</td>\n",
       "    </tr>\n",
       "    <tr>\n",
       "      <th>4</th>\n",
       "      <td>paymentMethod_apmType</td>\n",
       "      <td>0.031565</td>\n",
       "    </tr>\n",
       "    <tr>\n",
       "      <th>1</th>\n",
       "      <td>channel</td>\n",
       "      <td>0.029694</td>\n",
       "    </tr>\n",
       "    <tr>\n",
       "      <th>3</th>\n",
       "      <td>deviceDetails_device</td>\n",
       "      <td>0.025443</td>\n",
       "    </tr>\n",
       "  </tbody>\n",
       "</table>\n",
       "</div>"
      ],
      "text/plain": [
       "                    feat_name       imp\n",
       "0                amount_value  0.171530\n",
       "7           paymentMethod_cvv  0.165859\n",
       "10            time_in_seconds  0.153928\n",
       "11                   time_dif  0.153857\n",
       "8   paymentMethod_expiryMonth  0.081268\n",
       "9    paymentMethod_expiryYear  0.076518\n",
       "5      paymentMethod_cardType  0.041040\n",
       "6   paymentMethod_cardSubType  0.036178\n",
       "2       deviceDetails_browser  0.033120\n",
       "4       paymentMethod_apmType  0.031565\n",
       "1                     channel  0.029694\n",
       "3        deviceDetails_device  0.025443"
      ]
     },
     "metadata": {},
     "output_type": "display_data"
    }
   ],
   "source": [
    "fi = pd.DataFrame({\n",
    "'feat_name': list(train_df.columns),\n",
    "'imp': rf.feature_importances_}\n",
    ").sort_values('imp', ascending=False)\n",
    "display(fi)"
   ]
  }
 ],
 "metadata": {
  "kernelspec": {
   "display_name": "Python 3",
   "language": "python",
   "name": "python3"
  },
  "language_info": {
   "codemirror_mode": {
    "name": "ipython",
    "version": 3
   },
   "file_extension": ".py",
   "mimetype": "text/x-python",
   "name": "python",
   "nbconvert_exporter": "python",
   "pygments_lexer": "ipython3",
   "version": "3.7.7"
  }
 },
 "nbformat": 4,
 "nbformat_minor": 2
}
