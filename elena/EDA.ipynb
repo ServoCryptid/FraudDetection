{
 "cells": [
  {
   "cell_type": "code",
   "execution_count": 1,
   "metadata": {},
   "outputs": [
    {
     "name": "stderr",
     "output_type": "stream",
     "text": [
      "/usr/lib64/python3.7/site-packages/sklearn/utils/__init__.py:4: DeprecationWarning: Using or importing the ABCs from 'collections' instead of from 'collections.abc' is deprecated since Python 3.3,and in 3.9 it will stop working\n",
      "  from collections import Sequence\n",
      "/usr/lib64/python3.7/site-packages/sklearn/model_selection/_search.py:16: DeprecationWarning: Using or importing the ABCs from 'collections' instead of from 'collections.abc' is deprecated since Python 3.3,and in 3.9 it will stop working\n",
      "  from collections import Mapping, namedtuple, defaultdict, Sequence\n"
     ]
    }
   ],
   "source": [
    "import numpy as np\n",
    "import pandas as pd\n",
    "import tensorflow as tf\n",
    "import matplotlib.pyplot as plt\n",
    "import seaborn as sns\n",
    "import datetime\n",
    "import scipy.stats as stats\n",
    "from sklearn.preprocessing import StandardScaler\n",
    "from sklearn.model_selection import train_test_split"
   ]
  },
  {
   "cell_type": "markdown",
   "metadata": {},
   "source": [
    "## Exploratory Data Analysis"
   ]
  },
  {
   "cell_type": "code",
   "execution_count": 4,
   "metadata": {},
   "outputs": [],
   "source": [
    "train_df = pd.read_csv('../train.csv', index_col='id') #set index on 'id' column\n",
    "test_df = pd.read_csv('../test.csv', index_col='id')"
   ]
  },
  {
   "cell_type": "code",
   "execution_count": 5,
   "metadata": {
    "scrolled": true
   },
   "outputs": [
    {
     "data": {
      "text/html": [
       "<div>\n",
       "<style scoped>\n",
       "    .dataframe tbody tr th:only-of-type {\n",
       "        vertical-align: middle;\n",
       "    }\n",
       "\n",
       "    .dataframe tbody tr th {\n",
       "        vertical-align: top;\n",
       "    }\n",
       "\n",
       "    .dataframe thead th {\n",
       "        text-align: right;\n",
       "    }\n",
       "</style>\n",
       "<table border=\"1\" class=\"dataframe\">\n",
       "  <thead>\n",
       "    <tr style=\"text-align: right;\">\n",
       "      <th></th>\n",
       "      <th>amount_value</th>\n",
       "      <th>amount_currency</th>\n",
       "      <th>channel</th>\n",
       "      <th>deviceDetails_browser</th>\n",
       "      <th>deviceDetails_device</th>\n",
       "      <th>deviceDetails_deviceIp</th>\n",
       "      <th>merchantRefTransactionId</th>\n",
       "      <th>paymentMethod_apmType</th>\n",
       "      <th>paymentMethod_cardNumber</th>\n",
       "      <th>paymentMethod_cardType</th>\n",
       "      <th>paymentMethod_cardSubType</th>\n",
       "      <th>paymentMethod_cvv</th>\n",
       "      <th>paymentMethod_encodedPaymentToken</th>\n",
       "      <th>paymentMethod_expiryMonth</th>\n",
       "      <th>paymentMethod_expiryYear</th>\n",
       "      <th>transaction_time</th>\n",
       "      <th>class</th>\n",
       "    </tr>\n",
       "    <tr>\n",
       "      <th>id</th>\n",
       "      <th></th>\n",
       "      <th></th>\n",
       "      <th></th>\n",
       "      <th></th>\n",
       "      <th></th>\n",
       "      <th></th>\n",
       "      <th></th>\n",
       "      <th></th>\n",
       "      <th></th>\n",
       "      <th></th>\n",
       "      <th></th>\n",
       "      <th></th>\n",
       "      <th></th>\n",
       "      <th></th>\n",
       "      <th></th>\n",
       "      <th></th>\n",
       "      <th></th>\n",
       "    </tr>\n",
       "  </thead>\n",
       "  <tbody>\n",
       "    <tr>\n",
       "      <th>0</th>\n",
       "      <td>18253.30</td>\n",
       "      <td>USD</td>\n",
       "      <td>virtual</td>\n",
       "      <td>edge</td>\n",
       "      <td>pos</td>\n",
       "      <td>134.93.42.168</td>\n",
       "      <td>544011954</td>\n",
       "      <td>magstripe</td>\n",
       "      <td>2174-3628-6995-3987</td>\n",
       "      <td>JCB</td>\n",
       "      <td>Student</td>\n",
       "      <td>61</td>\n",
       "      <td>szQSTkeL</td>\n",
       "      <td>6</td>\n",
       "      <td>2027</td>\n",
       "      <td>2020-08-30 05:21:24</td>\n",
       "      <td>0</td>\n",
       "    </tr>\n",
       "    <tr>\n",
       "      <th>1</th>\n",
       "      <td>15870.89</td>\n",
       "      <td>USD</td>\n",
       "      <td>virtual</td>\n",
       "      <td>chrome</td>\n",
       "      <td>pos</td>\n",
       "      <td>78.92.229.26</td>\n",
       "      <td>9718272187</td>\n",
       "      <td>nfcc</td>\n",
       "      <td>4498-2553-8930-9552</td>\n",
       "      <td>JCB</td>\n",
       "      <td>Student</td>\n",
       "      <td>200</td>\n",
       "      <td>fdptXXrc</td>\n",
       "      <td>1</td>\n",
       "      <td>2026</td>\n",
       "      <td>2020-09-03 23:21:01</td>\n",
       "      <td>0</td>\n",
       "    </tr>\n",
       "    <tr>\n",
       "      <th>2</th>\n",
       "      <td>41109.80</td>\n",
       "      <td>USD</td>\n",
       "      <td>online</td>\n",
       "      <td>chromio</td>\n",
       "      <td>pos</td>\n",
       "      <td>197.84.118.231</td>\n",
       "      <td>1659938058</td>\n",
       "      <td>magstripe</td>\n",
       "      <td>8246-8688-8907-4387</td>\n",
       "      <td>JCB</td>\n",
       "      <td>Prepaid</td>\n",
       "      <td>259</td>\n",
       "      <td>UTXzvode</td>\n",
       "      <td>0</td>\n",
       "      <td>2021</td>\n",
       "      <td>2020-08-03 11:43:53</td>\n",
       "      <td>1</td>\n",
       "    </tr>\n",
       "    <tr>\n",
       "      <th>3</th>\n",
       "      <td>70604.95</td>\n",
       "      <td>USD</td>\n",
       "      <td>virtual</td>\n",
       "      <td>chrome</td>\n",
       "      <td>mobile</td>\n",
       "      <td>192.113.64.253</td>\n",
       "      <td>986924301</td>\n",
       "      <td>magstripe</td>\n",
       "      <td>3563-5044-6927-1494</td>\n",
       "      <td>JCB</td>\n",
       "      <td>Business</td>\n",
       "      <td>685</td>\n",
       "      <td>gVRZqrdu</td>\n",
       "      <td>7</td>\n",
       "      <td>2023</td>\n",
       "      <td>2020-07-22 04:28:32</td>\n",
       "      <td>0</td>\n",
       "    </tr>\n",
       "    <tr>\n",
       "      <th>4</th>\n",
       "      <td>51216.66</td>\n",
       "      <td>USD</td>\n",
       "      <td>virtual</td>\n",
       "      <td>chrome</td>\n",
       "      <td>mobile</td>\n",
       "      <td>48.81.200.252</td>\n",
       "      <td>9399699174</td>\n",
       "      <td>nfcc</td>\n",
       "      <td>4253-0351-2318-7737</td>\n",
       "      <td>JCB</td>\n",
       "      <td>Business</td>\n",
       "      <td>131</td>\n",
       "      <td>FGZLLHSX</td>\n",
       "      <td>6</td>\n",
       "      <td>2025</td>\n",
       "      <td>2020-02-29 13:35:21</td>\n",
       "      <td>0</td>\n",
       "    </tr>\n",
       "  </tbody>\n",
       "</table>\n",
       "</div>"
      ],
      "text/plain": [
       "    amount_value amount_currency  channel deviceDetails_browser  \\\n",
       "id                                                                \n",
       "0       18253.30             USD  virtual                  edge   \n",
       "1       15870.89             USD  virtual                chrome   \n",
       "2       41109.80             USD   online               chromio   \n",
       "3       70604.95             USD  virtual                chrome   \n",
       "4       51216.66             USD  virtual                chrome   \n",
       "\n",
       "   deviceDetails_device deviceDetails_deviceIp  merchantRefTransactionId  \\\n",
       "id                                                                         \n",
       "0                   pos          134.93.42.168                 544011954   \n",
       "1                   pos           78.92.229.26                9718272187   \n",
       "2                   pos         197.84.118.231                1659938058   \n",
       "3                mobile         192.113.64.253                 986924301   \n",
       "4                mobile          48.81.200.252                9399699174   \n",
       "\n",
       "   paymentMethod_apmType paymentMethod_cardNumber paymentMethod_cardType  \\\n",
       "id                                                                         \n",
       "0             magstripe       2174-3628-6995-3987                    JCB   \n",
       "1                   nfcc      4498-2553-8930-9552                    JCB   \n",
       "2             magstripe       8246-8688-8907-4387                    JCB   \n",
       "3             magstripe       3563-5044-6927-1494                    JCB   \n",
       "4                   nfcc      4253-0351-2318-7737                    JCB   \n",
       "\n",
       "   paymentMethod_cardSubType  paymentMethod_cvv  \\\n",
       "id                                                \n",
       "0                    Student                 61   \n",
       "1                    Student                200   \n",
       "2                   Prepaid                 259   \n",
       "3                  Business                 685   \n",
       "4                  Business                 131   \n",
       "\n",
       "   paymentMethod_encodedPaymentToken  paymentMethod_expiryMonth  \\\n",
       "id                                                                \n",
       "0                           szQSTkeL                          6   \n",
       "1                           fdptXXrc                          1   \n",
       "2                           UTXzvode                          0   \n",
       "3                           gVRZqrdu                          7   \n",
       "4                           FGZLLHSX                          6   \n",
       "\n",
       "    paymentMethod_expiryYear     transaction_time  class  \n",
       "id                                                        \n",
       "0                       2027  2020-08-30 05:21:24      0  \n",
       "1                       2026  2020-09-03 23:21:01      0  \n",
       "2                       2021  2020-08-03 11:43:53      1  \n",
       "3                       2023  2020-07-22 04:28:32      0  \n",
       "4                       2025  2020-02-29 13:35:21      0  "
      ]
     },
     "execution_count": 5,
     "metadata": {},
     "output_type": "execute_result"
    }
   ],
   "source": [
    "train_df.head()"
   ]
  },
  {
   "cell_type": "code",
   "execution_count": 6,
   "metadata": {
    "scrolled": true
   },
   "outputs": [
    {
     "data": {
      "text/html": [
       "<div>\n",
       "<style scoped>\n",
       "    .dataframe tbody tr th:only-of-type {\n",
       "        vertical-align: middle;\n",
       "    }\n",
       "\n",
       "    .dataframe tbody tr th {\n",
       "        vertical-align: top;\n",
       "    }\n",
       "\n",
       "    .dataframe thead th {\n",
       "        text-align: right;\n",
       "    }\n",
       "</style>\n",
       "<table border=\"1\" class=\"dataframe\">\n",
       "  <thead>\n",
       "    <tr style=\"text-align: right;\">\n",
       "      <th></th>\n",
       "      <th>amount_value</th>\n",
       "      <th>amount_currency</th>\n",
       "      <th>channel</th>\n",
       "      <th>deviceDetails_browser</th>\n",
       "      <th>deviceDetails_device</th>\n",
       "      <th>deviceDetails_deviceIp</th>\n",
       "      <th>merchantRefTransactionId</th>\n",
       "      <th>paymentMethod_apmType</th>\n",
       "      <th>paymentMethod_cardNumber</th>\n",
       "      <th>paymentMethod_cardType</th>\n",
       "      <th>paymentMethod_cardSubType</th>\n",
       "      <th>paymentMethod_cvv</th>\n",
       "      <th>paymentMethod_encodedPaymentToken</th>\n",
       "      <th>paymentMethod_expiryMonth</th>\n",
       "      <th>paymentMethod_expiryYear</th>\n",
       "      <th>transaction_time</th>\n",
       "      <th>class</th>\n",
       "    </tr>\n",
       "    <tr>\n",
       "      <th>id</th>\n",
       "      <th></th>\n",
       "      <th></th>\n",
       "      <th></th>\n",
       "      <th></th>\n",
       "      <th></th>\n",
       "      <th></th>\n",
       "      <th></th>\n",
       "      <th></th>\n",
       "      <th></th>\n",
       "      <th></th>\n",
       "      <th></th>\n",
       "      <th></th>\n",
       "      <th></th>\n",
       "      <th></th>\n",
       "      <th></th>\n",
       "      <th></th>\n",
       "      <th></th>\n",
       "    </tr>\n",
       "  </thead>\n",
       "  <tbody>\n",
       "    <tr>\n",
       "      <th>0</th>\n",
       "      <td>85621.45</td>\n",
       "      <td>USD</td>\n",
       "      <td>virtual</td>\n",
       "      <td>chrome</td>\n",
       "      <td>pos</td>\n",
       "      <td>225.76.238.186</td>\n",
       "      <td>2534859727</td>\n",
       "      <td>magstripe</td>\n",
       "      <td>6444-9854-4855-9248</td>\n",
       "      <td>Discover</td>\n",
       "      <td>Student</td>\n",
       "      <td>394</td>\n",
       "      <td>uCuKsvrW</td>\n",
       "      <td>0</td>\n",
       "      <td>2024</td>\n",
       "      <td>2020-09-05 23:30:39</td>\n",
       "      <td>1</td>\n",
       "    </tr>\n",
       "    <tr>\n",
       "      <th>1</th>\n",
       "      <td>6885.37</td>\n",
       "      <td>USD</td>\n",
       "      <td>online</td>\n",
       "      <td>edge</td>\n",
       "      <td>pos</td>\n",
       "      <td>22.235.47.168</td>\n",
       "      <td>3373234617</td>\n",
       "      <td>magstripe</td>\n",
       "      <td>7374-1462-5965-4580</td>\n",
       "      <td>JCB</td>\n",
       "      <td>Business</td>\n",
       "      <td>480</td>\n",
       "      <td>lVYWecct</td>\n",
       "      <td>9</td>\n",
       "      <td>2021</td>\n",
       "      <td>2020-08-04 07:08:00</td>\n",
       "      <td>0</td>\n",
       "    </tr>\n",
       "    <tr>\n",
       "      <th>2</th>\n",
       "      <td>60146.36</td>\n",
       "      <td>USD</td>\n",
       "      <td>virtual</td>\n",
       "      <td>edge</td>\n",
       "      <td>pos</td>\n",
       "      <td>34.50.211.154</td>\n",
       "      <td>4596280497</td>\n",
       "      <td>chip</td>\n",
       "      <td>2366-2404-8271-1630</td>\n",
       "      <td>Discover</td>\n",
       "      <td>Student</td>\n",
       "      <td>263</td>\n",
       "      <td>iXTHSnGH</td>\n",
       "      <td>11</td>\n",
       "      <td>2022</td>\n",
       "      <td>2020-08-02 18:52:19</td>\n",
       "      <td>0</td>\n",
       "    </tr>\n",
       "    <tr>\n",
       "      <th>3</th>\n",
       "      <td>40372.97</td>\n",
       "      <td>USD</td>\n",
       "      <td>virtual</td>\n",
       "      <td>edge</td>\n",
       "      <td>mobile</td>\n",
       "      <td>35.47.40.5</td>\n",
       "      <td>7486781647</td>\n",
       "      <td>magstripe</td>\n",
       "      <td>1528-9270-7336-2735</td>\n",
       "      <td>Visa</td>\n",
       "      <td>Business</td>\n",
       "      <td>469</td>\n",
       "      <td>nFnmjYWb</td>\n",
       "      <td>1</td>\n",
       "      <td>2027</td>\n",
       "      <td>2020-06-24 18:42:29</td>\n",
       "      <td>1</td>\n",
       "    </tr>\n",
       "    <tr>\n",
       "      <th>4</th>\n",
       "      <td>43803.75</td>\n",
       "      <td>USD</td>\n",
       "      <td>virtual</td>\n",
       "      <td>chrome</td>\n",
       "      <td>pos</td>\n",
       "      <td>247.164.216.72</td>\n",
       "      <td>8375107852</td>\n",
       "      <td>nfcc</td>\n",
       "      <td>8977-0947-5649-8057</td>\n",
       "      <td>Visa</td>\n",
       "      <td>Student</td>\n",
       "      <td>162</td>\n",
       "      <td>gMcMMAuC</td>\n",
       "      <td>4</td>\n",
       "      <td>2026</td>\n",
       "      <td>2020-03-19 18:53:16</td>\n",
       "      <td>1</td>\n",
       "    </tr>\n",
       "  </tbody>\n",
       "</table>\n",
       "</div>"
      ],
      "text/plain": [
       "    amount_value amount_currency  channel deviceDetails_browser  \\\n",
       "id                                                                \n",
       "0       85621.45             USD  virtual                chrome   \n",
       "1        6885.37             USD   online                  edge   \n",
       "2       60146.36             USD  virtual                  edge   \n",
       "3       40372.97             USD  virtual                  edge   \n",
       "4       43803.75             USD  virtual                chrome   \n",
       "\n",
       "   deviceDetails_device deviceDetails_deviceIp  merchantRefTransactionId  \\\n",
       "id                                                                         \n",
       "0                   pos         225.76.238.186                2534859727   \n",
       "1                   pos          22.235.47.168                3373234617   \n",
       "2                   pos          34.50.211.154                4596280497   \n",
       "3                mobile             35.47.40.5                7486781647   \n",
       "4                   pos         247.164.216.72                8375107852   \n",
       "\n",
       "   paymentMethod_apmType paymentMethod_cardNumber paymentMethod_cardType  \\\n",
       "id                                                                         \n",
       "0             magstripe       6444-9854-4855-9248              Discover    \n",
       "1             magstripe       7374-1462-5965-4580                    JCB   \n",
       "2                   chip      2366-2404-8271-1630              Discover    \n",
       "3             magstripe       1528-9270-7336-2735                  Visa    \n",
       "4                   nfcc      8977-0947-5649-8057                  Visa    \n",
       "\n",
       "   paymentMethod_cardSubType  paymentMethod_cvv  \\\n",
       "id                                                \n",
       "0                    Student                394   \n",
       "1                  Business                 480   \n",
       "2                    Student                263   \n",
       "3                  Business                 469   \n",
       "4                    Student                162   \n",
       "\n",
       "   paymentMethod_encodedPaymentToken  paymentMethod_expiryMonth  \\\n",
       "id                                                                \n",
       "0                           uCuKsvrW                          0   \n",
       "1                           lVYWecct                          9   \n",
       "2                           iXTHSnGH                         11   \n",
       "3                           nFnmjYWb                          1   \n",
       "4                           gMcMMAuC                          4   \n",
       "\n",
       "    paymentMethod_expiryYear     transaction_time  class  \n",
       "id                                                        \n",
       "0                       2024  2020-09-05 23:30:39      1  \n",
       "1                       2021  2020-08-04 07:08:00      0  \n",
       "2                       2022  2020-08-02 18:52:19      0  \n",
       "3                       2027  2020-06-24 18:42:29      1  \n",
       "4                       2026  2020-03-19 18:53:16      1  "
      ]
     },
     "execution_count": 6,
     "metadata": {},
     "output_type": "execute_result"
    }
   ],
   "source": [
    "test_df.head()"
   ]
  },
  {
   "cell_type": "code",
   "execution_count": 7,
   "metadata": {},
   "outputs": [
    {
     "data": {
      "text/plain": [
       "(100000, 17)"
      ]
     },
     "execution_count": 7,
     "metadata": {},
     "output_type": "execute_result"
    }
   ],
   "source": [
    "train_df.shape"
   ]
  },
  {
   "cell_type": "code",
   "execution_count": 8,
   "metadata": {},
   "outputs": [
    {
     "data": {
      "text/plain": [
       "(10000, 17)"
      ]
     },
     "execution_count": 8,
     "metadata": {},
     "output_type": "execute_result"
    }
   ],
   "source": [
    "test_df.shape"
   ]
  },
  {
   "cell_type": "code",
   "execution_count": 9,
   "metadata": {},
   "outputs": [
    {
     "name": "stdout",
     "output_type": "stream",
     "text": [
      "<class 'pandas.core.frame.DataFrame'>\n",
      "Int64Index: 100000 entries, 0 to 99999\n",
      "Data columns (total 17 columns):\n",
      "amount_value                         100000 non-null float64\n",
      "amount_currency                      100000 non-null object\n",
      "channel                              100000 non-null object\n",
      "deviceDetails_browser                100000 non-null object\n",
      "deviceDetails_device                 100000 non-null object\n",
      "deviceDetails_deviceIp               100000 non-null object\n",
      "merchantRefTransactionId             100000 non-null int64\n",
      "paymentMethod_apmType                100000 non-null object\n",
      "paymentMethod_cardNumber             100000 non-null object\n",
      "paymentMethod_cardType               100000 non-null object\n",
      "paymentMethod_cardSubType            100000 non-null object\n",
      "paymentMethod_cvv                    100000 non-null int64\n",
      "paymentMethod_encodedPaymentToken    100000 non-null object\n",
      "paymentMethod_expiryMonth            100000 non-null int64\n",
      "paymentMethod_expiryYear             100000 non-null int64\n",
      "transaction_time                     100000 non-null object\n",
      "class                                100000 non-null int64\n",
      "dtypes: float64(1), int64(5), object(11)\n",
      "memory usage: 13.7+ MB\n"
     ]
    }
   ],
   "source": [
    "train_df.info()"
   ]
  },
  {
   "cell_type": "markdown",
   "metadata": {},
   "source": [
    "We can clearly see that <b>we don't have any null values</b> in the data which is bound to happen in such datasets as each and every information is very necessary else the transaction isn't processed."
   ]
  },
  {
   "cell_type": "markdown",
   "metadata": {},
   "source": [
    "### Columns story\n",
    "- <b>integer type columns</b>: \n",
    "    - merchantRefTransactionId, \n",
    "    - paymentMethod_cvv, \n",
    "    - paymentMethod_cvv,\n",
    "    - paymentMethod_expiryMonth,\n",
    "    - paymentMethod_expiryYear.\n",
    "- <b>float type columns</b>: amount_value.\n",
    "- <b>object (str) type columns</b>: \n",
    "    - amount_currency,\n",
    "    - channel,\n",
    "    - deviceDetails_browser, \n",
    "    - deviceDetails_device,\n",
    "    - deviceDetails_deviceIp,\n",
    "    - paymentMethod_apmType,\n",
    "    - paymentMethod_cardNumber,\n",
    "    - paymentMethod_cardType,\n",
    "    - paymentMethod_cardSubType, \n",
    "    - paymentMethod_encodedPaymentToken.    \n",
    "- <b>object (date) type columns</b>: transaction_time."
   ]
  },
  {
   "cell_type": "code",
   "execution_count": 10,
   "metadata": {},
   "outputs": [
    {
     "data": {
      "text/plain": [
       "Index(['amount_value', 'amount_currency', 'channel', 'deviceDetails_browser',\n",
       "       'deviceDetails_device', 'deviceDetails_deviceIp',\n",
       "       'merchantRefTransactionId', 'paymentMethod_apmType',\n",
       "       'paymentMethod_cardNumber', 'paymentMethod_cardType',\n",
       "       'paymentMethod_cardSubType', 'paymentMethod_cvv',\n",
       "       'paymentMethod_encodedPaymentToken', 'paymentMethod_expiryMonth',\n",
       "       'paymentMethod_expiryYear', 'transaction_time', 'class'],\n",
       "      dtype='object')"
      ]
     },
     "execution_count": 10,
     "metadata": {},
     "output_type": "execute_result"
    }
   ],
   "source": [
    "train_df.columns"
   ]
  },
  {
   "cell_type": "code",
   "execution_count": 11,
   "metadata": {
    "scrolled": true
   },
   "outputs": [
    {
     "data": {
      "text/plain": [
       "amount_value                         float64\n",
       "amount_currency                       object\n",
       "channel                               object\n",
       "deviceDetails_browser                 object\n",
       "deviceDetails_device                  object\n",
       "deviceDetails_deviceIp                object\n",
       "merchantRefTransactionId               int64\n",
       "paymentMethod_apmType                 object\n",
       "paymentMethod_cardNumber              object\n",
       "paymentMethod_cardType                object\n",
       "paymentMethod_cardSubType             object\n",
       "paymentMethod_cvv                      int64\n",
       "paymentMethod_encodedPaymentToken     object\n",
       "paymentMethod_expiryMonth              int64\n",
       "paymentMethod_expiryYear               int64\n",
       "transaction_time                      object\n",
       "class                                  int64\n",
       "dtype: object"
      ]
     },
     "execution_count": 11,
     "metadata": {},
     "output_type": "execute_result"
    }
   ],
   "source": [
    "train_df.dtypes"
   ]
  },
  {
   "cell_type": "markdown",
   "metadata": {},
   "source": [
    "### Features histogram "
   ]
  },
  {
   "cell_type": "code",
   "execution_count": 13,
   "metadata": {},
   "outputs": [],
   "source": [
    "numerical_columns = ['merchantRefTransactionId', 'paymentMethod_cvv', \n",
    "                     'paymentMethod_expiryMonth', 'paymentMethod_expiryYear',\n",
    "                     'amount_value']"
   ]
  },
  {
   "cell_type": "code",
   "execution_count": 14,
   "metadata": {},
   "outputs": [
    {
     "data": {
      "image/png": "[encoded data removed]",
      "text/plain": [
       "<Figure size 1440x1440 with 5 Axes>"
      ]
     },
     "metadata": {
      "needs_background": "light"
     },
     "output_type": "display_data"
    }
   ],
   "source": [
    "fig=plt.figure(figsize=(20,20))\n",
    "for i, feature in enumerate(numerical_columns):\n",
    "    ax=fig.add_subplot(3,3,i+1)\n",
    "    train_df[feature].hist(bins=20,\n",
    "                            ax=ax,\n",
    "                            facecolor='midnightblue')\n",
    "    ax.set_title(feature+\" Distribution\", color='DarkRed')\n",
    "    ax.set_yscale('log')\n",
    "fig.tight_layout()  \n",
    "plt.show()"
   ]
  },
  {
   "cell_type": "markdown",
   "metadata": {},
   "source": [
    "### Fraudulent vs. Non-Fraudulent Transactions\n",
    "- balanced data set"
   ]
  },
  {
   "cell_type": "code",
   "execution_count": 15,
   "metadata": {
    "scrolled": false
   },
   "outputs": [
    {
     "data": {
      "text/plain": [
       "Text(0.5, 0, 'Class (0:Non-Fraudulent, 1:Fraudulent)')"
      ]
     },
     "execution_count": 15,
     "metadata": {},
     "output_type": "execute_result"
    },
    {
     "data": {
      "image/png": "[encoded data removed]",
      "text/plain": [
       "<Figure size 576x432 with 1 Axes>"
      ]
     },
     "metadata": {
      "needs_background": "light"
     },
     "output_type": "display_data"
    }
   ],
   "source": [
    "new_counts = train_df['class'].value_counts()\n",
    "plt.figure(figsize=(8,6))\n",
    "sns.barplot(x=new_counts.index, y=new_counts)\n",
    "plt.title('Count of Fraudulent vs. Non-Fraudulent Transactions')\n",
    "plt.ylabel('Count')\n",
    "plt.xlabel('Class (0:Non-Fraudulent, 1:Fraudulent)')"
   ]
  },
  {
   "cell_type": "markdown",
   "metadata": {},
   "source": [
    "### transaction_time in the foreground"
   ]
  },
  {
   "cell_type": "code",
   "execution_count": 17,
   "metadata": {},
   "outputs": [],
   "source": [
    "initial_time = list(train_df['transaction_time'])"
   ]
  },
  {
   "cell_type": "code",
   "execution_count": 18,
   "metadata": {},
   "outputs": [],
   "source": [
    "time_in_seconds = []\n",
    "for time_val in initial_time:\n",
    "    date_time_obj = datetime.datetime.strptime(time_val, '%Y-%m-%d %H:%M:%S')\n",
    "    time_in_seconds.append(date_time_obj.timestamp())"
   ]
  },
  {
   "cell_type": "code",
   "execution_count": 19,
   "metadata": {},
   "outputs": [],
   "source": [
    "train_df = train_df.assign(time_in_seconds = time_in_seconds)"
   ]
  },
  {
   "cell_type": "code",
   "execution_count": 20,
   "metadata": {},
   "outputs": [],
   "source": [
    "dif_time = []\n",
    "the_older_trans_date = min(time_in_seconds)\n",
    "for time_val in time_in_seconds:\n",
    "    delta = time_val - the_older_trans_date\n",
    "    dif_time.append(delta)"
   ]
  },
  {
   "cell_type": "code",
   "execution_count": 21,
   "metadata": {},
   "outputs": [],
   "source": [
    "train_df = train_df.assign(time_dif = dif_time)"
   ]
  },
  {
   "cell_type": "code",
   "execution_count": 22,
   "metadata": {},
   "outputs": [],
   "source": [
    "train_df.sort_values(by=['time_dif'], inplace=True)"
   ]
  },
  {
   "cell_type": "code",
   "execution_count": 23,
   "metadata": {},
   "outputs": [
    {
     "data": {
      "text/html": [
       "<div>\n",
       "<style scoped>\n",
       "    .dataframe tbody tr th:only-of-type {\n",
       "        vertical-align: middle;\n",
       "    }\n",
       "\n",
       "    .dataframe tbody tr th {\n",
       "        vertical-align: top;\n",
       "    }\n",
       "\n",
       "    .dataframe thead th {\n",
       "        text-align: right;\n",
       "    }\n",
       "</style>\n",
       "<table border=\"1\" class=\"dataframe\">\n",
       "  <thead>\n",
       "    <tr style=\"text-align: right;\">\n",
       "      <th></th>\n",
       "      <th>amount_value</th>\n",
       "      <th>amount_currency</th>\n",
       "      <th>channel</th>\n",
       "      <th>deviceDetails_browser</th>\n",
       "      <th>deviceDetails_device</th>\n",
       "      <th>deviceDetails_deviceIp</th>\n",
       "      <th>merchantRefTransactionId</th>\n",
       "      <th>paymentMethod_apmType</th>\n",
       "      <th>paymentMethod_cardNumber</th>\n",
       "      <th>paymentMethod_cardType</th>\n",
       "      <th>paymentMethod_cardSubType</th>\n",
       "      <th>paymentMethod_cvv</th>\n",
       "      <th>paymentMethod_encodedPaymentToken</th>\n",
       "      <th>paymentMethod_expiryMonth</th>\n",
       "      <th>paymentMethod_expiryYear</th>\n",
       "      <th>transaction_time</th>\n",
       "      <th>class</th>\n",
       "      <th>time_in_seconds</th>\n",
       "      <th>time_dif</th>\n",
       "    </tr>\n",
       "    <tr>\n",
       "      <th>id</th>\n",
       "      <th></th>\n",
       "      <th></th>\n",
       "      <th></th>\n",
       "      <th></th>\n",
       "      <th></th>\n",
       "      <th></th>\n",
       "      <th></th>\n",
       "      <th></th>\n",
       "      <th></th>\n",
       "      <th></th>\n",
       "      <th></th>\n",
       "      <th></th>\n",
       "      <th></th>\n",
       "      <th></th>\n",
       "      <th></th>\n",
       "      <th></th>\n",
       "      <th></th>\n",
       "      <th></th>\n",
       "      <th></th>\n",
       "    </tr>\n",
       "  </thead>\n",
       "  <tbody>\n",
       "    <tr>\n",
       "      <th>49602</th>\n",
       "      <td>17516.75</td>\n",
       "      <td>USD</td>\n",
       "      <td>virtual</td>\n",
       "      <td>edge</td>\n",
       "      <td>mobile</td>\n",
       "      <td>87.48.27.99</td>\n",
       "      <td>6876758664</td>\n",
       "      <td>magstripe</td>\n",
       "      <td>3553-5297-8108-7720</td>\n",
       "      <td>JCB</td>\n",
       "      <td>Student</td>\n",
       "      <td>101</td>\n",
       "      <td>vnlNRRAb</td>\n",
       "      <td>7</td>\n",
       "      <td>2026</td>\n",
       "      <td>2020-01-01 13:35:45</td>\n",
       "      <td>1</td>\n",
       "      <td>1.577879e+09</td>\n",
       "      <td>0.0</td>\n",
       "    </tr>\n",
       "    <tr>\n",
       "      <th>62605</th>\n",
       "      <td>10239.05</td>\n",
       "      <td>USD</td>\n",
       "      <td>pos</td>\n",
       "      <td>chrome</td>\n",
       "      <td>pc</td>\n",
       "      <td>156.54.194.200</td>\n",
       "      <td>1231308167</td>\n",
       "      <td>nfcc</td>\n",
       "      <td>3800-0146-6060-1696</td>\n",
       "      <td>Visa</td>\n",
       "      <td>Student</td>\n",
       "      <td>543</td>\n",
       "      <td>AbjNfVQA</td>\n",
       "      <td>1</td>\n",
       "      <td>2027</td>\n",
       "      <td>2020-01-01 13:35:56</td>\n",
       "      <td>1</td>\n",
       "      <td>1.577879e+09</td>\n",
       "      <td>11.0</td>\n",
       "    </tr>\n",
       "    <tr>\n",
       "      <th>30869</th>\n",
       "      <td>79725.01</td>\n",
       "      <td>USD</td>\n",
       "      <td>virtual</td>\n",
       "      <td>edge</td>\n",
       "      <td>pc</td>\n",
       "      <td>218.49.51.250</td>\n",
       "      <td>9908617220</td>\n",
       "      <td>nfcc</td>\n",
       "      <td>9248-7493-5771-1710</td>\n",
       "      <td>JCB</td>\n",
       "      <td>Student</td>\n",
       "      <td>896</td>\n",
       "      <td>tUGnKUiz</td>\n",
       "      <td>7</td>\n",
       "      <td>2019</td>\n",
       "      <td>2020-01-01 13:39:40</td>\n",
       "      <td>1</td>\n",
       "      <td>1.577879e+09</td>\n",
       "      <td>235.0</td>\n",
       "    </tr>\n",
       "    <tr>\n",
       "      <th>92700</th>\n",
       "      <td>16589.65</td>\n",
       "      <td>USD</td>\n",
       "      <td>virtual</td>\n",
       "      <td>edge</td>\n",
       "      <td>pc</td>\n",
       "      <td>17.60.35.199</td>\n",
       "      <td>8733780365</td>\n",
       "      <td>magstripe</td>\n",
       "      <td>1188-7983-8754-2387</td>\n",
       "      <td>Discover</td>\n",
       "      <td>Prepaid</td>\n",
       "      <td>478</td>\n",
       "      <td>DBHuKkYw</td>\n",
       "      <td>5</td>\n",
       "      <td>2027</td>\n",
       "      <td>2020-01-01 13:51:33</td>\n",
       "      <td>1</td>\n",
       "      <td>1.577879e+09</td>\n",
       "      <td>948.0</td>\n",
       "    </tr>\n",
       "    <tr>\n",
       "      <th>69792</th>\n",
       "      <td>44131.26</td>\n",
       "      <td>USD</td>\n",
       "      <td>virtual</td>\n",
       "      <td>edge</td>\n",
       "      <td>pc</td>\n",
       "      <td>125.131.62.127</td>\n",
       "      <td>9463391174</td>\n",
       "      <td>magstripe</td>\n",
       "      <td>7456-4857-8718-1108</td>\n",
       "      <td>Discover</td>\n",
       "      <td>Business</td>\n",
       "      <td>510</td>\n",
       "      <td>pmeNcqSB</td>\n",
       "      <td>3</td>\n",
       "      <td>2023</td>\n",
       "      <td>2020-01-01 13:59:17</td>\n",
       "      <td>0</td>\n",
       "      <td>1.577880e+09</td>\n",
       "      <td>1412.0</td>\n",
       "    </tr>\n",
       "  </tbody>\n",
       "</table>\n",
       "</div>"
      ],
      "text/plain": [
       "       amount_value amount_currency  channel deviceDetails_browser  \\\n",
       "id                                                                   \n",
       "49602      17516.75             USD  virtual                  edge   \n",
       "62605      10239.05             USD      pos                chrome   \n",
       "30869      79725.01             USD  virtual                  edge   \n",
       "92700      16589.65             USD  virtual                  edge   \n",
       "69792      44131.26             USD  virtual                  edge   \n",
       "\n",
       "      deviceDetails_device deviceDetails_deviceIp  merchantRefTransactionId  \\\n",
       "id                                                                            \n",
       "49602               mobile            87.48.27.99                6876758664   \n",
       "62605                   pc         156.54.194.200                1231308167   \n",
       "30869                   pc          218.49.51.250                9908617220   \n",
       "92700                   pc           17.60.35.199                8733780365   \n",
       "69792                   pc         125.131.62.127                9463391174   \n",
       "\n",
       "      paymentMethod_apmType paymentMethod_cardNumber paymentMethod_cardType  \\\n",
       "id                                                                            \n",
       "49602            magstripe       3553-5297-8108-7720                    JCB   \n",
       "62605                  nfcc      3800-0146-6060-1696                  Visa    \n",
       "30869                  nfcc      9248-7493-5771-1710                    JCB   \n",
       "92700            magstripe       1188-7983-8754-2387              Discover    \n",
       "69792            magstripe       7456-4857-8718-1108              Discover    \n",
       "\n",
       "      paymentMethod_cardSubType  paymentMethod_cvv  \\\n",
       "id                                                   \n",
       "49602                   Student                101   \n",
       "62605                   Student                543   \n",
       "30869                   Student                896   \n",
       "92700                  Prepaid                 478   \n",
       "69792                 Business                 510   \n",
       "\n",
       "      paymentMethod_encodedPaymentToken  paymentMethod_expiryMonth  \\\n",
       "id                                                                   \n",
       "49602                          vnlNRRAb                          7   \n",
       "62605                          AbjNfVQA                          1   \n",
       "30869                          tUGnKUiz                          7   \n",
       "92700                          DBHuKkYw                          5   \n",
       "69792                          pmeNcqSB                          3   \n",
       "\n",
       "       paymentMethod_expiryYear     transaction_time  class  time_in_seconds  \\\n",
       "id                                                                             \n",
       "49602                      2026  2020-01-01 13:35:45      1     1.577879e+09   \n",
       "62605                      2027  2020-01-01 13:35:56      1     1.577879e+09   \n",
       "30869                      2019  2020-01-01 13:39:40      1     1.577879e+09   \n",
       "92700                      2027  2020-01-01 13:51:33      1     1.577879e+09   \n",
       "69792                      2023  2020-01-01 13:59:17      0     1.577880e+09   \n",
       "\n",
       "       time_dif  \n",
       "id               \n",
       "49602       0.0  \n",
       "62605      11.0  \n",
       "30869     235.0  \n",
       "92700     948.0  \n",
       "69792    1412.0  "
      ]
     },
     "execution_count": 23,
     "metadata": {},
     "output_type": "execute_result"
    }
   ],
   "source": [
    "train_df.head()"
   ]
  },
  {
   "cell_type": "markdown",
   "metadata": {},
   "source": [
    "### Normalized or not time_dif?\n",
    "<b>Time variable is also not normalized.</b> So it must be normalized.\n",
    "\n"
   ]
  },
  {
   "cell_type": "code",
   "execution_count": 24,
   "metadata": {},
   "outputs": [
    {
     "data": {
      "text/plain": [
       "<matplotlib.axes._subplots.AxesSubplot at 0x7f48a3723e10>"
      ]
     },
     "execution_count": 24,
     "metadata": {},
     "output_type": "execute_result"
    },
    {
     "data": {
      "image/png": "[encoded data removed]",
      "text/plain": [
       "<Figure size 432x288 with 1 Axes>"
      ]
     },
     "metadata": {
      "needs_background": "light"
     },
     "output_type": "display_data"
    }
   ],
   "source": [
    "sns.distplot(train_df['time_dif'], fit=stats.norm)"
   ]
  },
  {
   "cell_type": "code",
   "execution_count": 25,
   "metadata": {},
   "outputs": [],
   "source": [
    "train_df['norm_time_dif'] = StandardScaler().fit_transform(train_df[['time_dif']])"
   ]
  },
  {
   "cell_type": "code",
   "execution_count": 26,
   "metadata": {},
   "outputs": [
    {
     "data": {
      "text/plain": [
       "<matplotlib.axes._subplots.AxesSubplot at 0x7f48a2fa58d0>"
      ]
     },
     "execution_count": 26,
     "metadata": {},
     "output_type": "execute_result"
    },
    {
     "data": {
      "image/png": "[encoded data removed]",
      "text/plain": [
       "<Figure size 432x288 with 1 Axes>"
      ]
     },
     "metadata": {
      "needs_background": "light"
     },
     "output_type": "display_data"
    }
   ],
   "source": [
    "sns.distplot(train_df['norm_time_dif'], fit=stats.norm)"
   ]
  },
  {
   "cell_type": "markdown",
   "metadata": {},
   "source": [
    "### Normalized or not amount_value?\n",
    "Clearly the amount_value variable is not normalized, so we'll normalize it frist."
   ]
  },
  {
   "cell_type": "code",
   "execution_count": 27,
   "metadata": {},
   "outputs": [
    {
     "data": {
      "text/plain": [
       "<matplotlib.axes._subplots.AxesSubplot at 0x7f48a2facd90>"
      ]
     },
     "execution_count": 27,
     "metadata": {},
     "output_type": "execute_result"
    },
    {
     "data": {
      "image/png": "[encoded data removed]",
      "text/plain": [
       "<Figure size 432x288 with 1 Axes>"
      ]
     },
     "metadata": {
      "needs_background": "light"
     },
     "output_type": "display_data"
    }
   ],
   "source": [
    "sns.distplot(train_df['amount_value'],fit=stats.norm)"
   ]
  },
  {
   "cell_type": "code",
   "execution_count": 28,
   "metadata": {},
   "outputs": [],
   "source": [
    "train_df['norm_amount'] = StandardScaler().fit_transform(train_df[['amount_value']])"
   ]
  },
  {
   "cell_type": "code",
   "execution_count": 29,
   "metadata": {},
   "outputs": [
    {
     "data": {
      "text/plain": [
       "<matplotlib.axes._subplots.AxesSubplot at 0x7f48a2ec2b90>"
      ]
     },
     "execution_count": 29,
     "metadata": {},
     "output_type": "execute_result"
    },
    {
     "data": {
      "image/png": "[encoded data removed]",
      "text/plain": [
       "<Figure size 432x288 with 1 Axes>"
      ]
     },
     "metadata": {
      "needs_background": "light"
     },
     "output_type": "display_data"
    }
   ],
   "source": [
    "sns.distplot(train_df['norm_amount'],fit=stats.norm)"
   ]
  },
  {
   "cell_type": "markdown",
   "metadata": {},
   "source": [
    "### When do people shop?\n",
    "Try to visualize when people shop and whan credit fraud happens and if there is a pattern.\n",
    "\n",
    "!! NO PATTERNS FOUND."
   ]
  },
  {
   "cell_type": "code",
   "execution_count": 30,
   "metadata": {},
   "outputs": [],
   "source": [
    "time_anaysis = train_df[['transaction_time', 'amount_value', 'class']].copy()"
   ]
  },
  {
   "cell_type": "code",
   "execution_count": 31,
   "metadata": {},
   "outputs": [],
   "source": [
    "def convert_to_dt(s):\n",
    "    return datetime.datetime.strptime(s, '%Y-%m-%d %H:%M:%S')"
   ]
  },
  {
   "cell_type": "code",
   "execution_count": 32,
   "metadata": {},
   "outputs": [],
   "source": [
    "time_anaysis['transaction_time'] = time_anaysis.transaction_time.apply(convert_to_dt)"
   ]
  },
  {
   "cell_type": "code",
   "execution_count": 33,
   "metadata": {},
   "outputs": [],
   "source": [
    "time_anaysis['hour_of_the_day'] = time_anaysis.transaction_time.dt.hour"
   ]
  },
  {
   "cell_type": "code",
   "execution_count": 34,
   "metadata": {},
   "outputs": [],
   "source": [
    "time_analysis_grouped = time_anaysis.groupby(['class', 'hour_of_the_day'])['amount_value'].count()"
   ]
  },
  {
   "cell_type": "code",
   "execution_count": 35,
   "metadata": {},
   "outputs": [
    {
     "data": {
      "text/plain": [
       "<matplotlib.axes._subplots.AxesSubplot at 0x7f48a2e3ad90>"
      ]
     },
     "execution_count": 35,
     "metadata": {},
     "output_type": "execute_result"
    },
    {
     "data": {
      "image/png": "[encoded data removed]",
      "text/plain": [
       "<Figure size 720x432 with 1 Axes>"
      ]
     },
     "metadata": {
      "needs_background": "light"
     },
     "output_type": "display_data"
    }
   ],
   "source": [
    "plt.figure(figsize = (10, 6))\n",
    "valid_transactions = time_analysis_grouped[0].copy()\n",
    "valid_transactions.name = 'Number of transactions'\n",
    "valid_transactions.plot.bar(title = '# of legitimate credit card transactions per hour', legend = True)"
   ]
  },
  {
   "cell_type": "code",
   "execution_count": 36,
   "metadata": {},
   "outputs": [
    {
     "data": {
      "text/plain": [
       "<matplotlib.axes._subplots.AxesSubplot at 0x7f48a2c35e90>"
      ]
     },
     "execution_count": 36,
     "metadata": {},
     "output_type": "execute_result"
    },
    {
     "data": {
      "image/png": "[encoded data removed]",
      "text/plain": [
       "<Figure size 720x432 with 1 Axes>"
      ]
     },
     "metadata": {
      "needs_background": "light"
     },
     "output_type": "display_data"
    }
   ],
   "source": [
    "plt.figure(figsize = (10, 6))\n",
    "fraud_transactions = time_analysis_grouped[1].copy()\n",
    "fraud_transactions.name = 'Number of transactions'\n",
    "fraud_transactions.plot.bar(title = '# of fraud credit card transactions per hour', legend = True)"
   ]
  },
  {
   "cell_type": "markdown",
   "metadata": {},
   "source": [
    "### Are fraudulent transactions of higher value than non-fraudulent transactions?\n",
    "It would be interesting to see if fraudulent transactions are in general higher value than non-fraudulent transactions or not. \n",
    "\n",
    "The <b>Null</b> hypothesis (H0): <i>Fraudulent transactions are of similar or lower value as normal transactions.</i>\n",
    "\n",
    "The <b>Alternative</b> hypothesis (HA): <i>Fraudulent transactions are of higher value as normal transactions.</i>"
   ]
  },
  {
   "cell_type": "code",
   "execution_count": 37,
   "metadata": {},
   "outputs": [
    {
     "data": {
      "text/plain": [
       "<matplotlib.axes._subplots.AxesSubplot at 0x7f48a2c54190>"
      ]
     },
     "execution_count": 37,
     "metadata": {},
     "output_type": "execute_result"
    },
    {
     "data": {
      "image/png": "[encoded data removed]",
      "text/plain": [
       "<Figure size 432x288 with 1 Axes>"
      ]
     },
     "metadata": {
      "needs_background": "light"
     },
     "output_type": "display_data"
    }
   ],
   "source": [
    "time_anaysis[time_anaysis['class'] == 0].amount_value.plot.hist(title='Histogram of non-fraudulent transactions')"
   ]
  },
  {
   "cell_type": "code",
   "execution_count": 38,
   "metadata": {},
   "outputs": [
    {
     "data": {
      "text/plain": [
       "49964.62104850062"
      ]
     },
     "execution_count": 38,
     "metadata": {},
     "output_type": "execute_result"
    }
   ],
   "source": [
    "np.mean(time_anaysis.amount_value)"
   ]
  },
  {
   "cell_type": "code",
   "execution_count": 39,
   "metadata": {},
   "outputs": [
    {
     "data": {
      "text/plain": [
       "<matplotlib.axes._subplots.AxesSubplot at 0x7f48a2b1b150>"
      ]
     },
     "execution_count": 39,
     "metadata": {},
     "output_type": "execute_result"
    },
    {
     "data": {
      "image/png": "[encoded data removed]",
      "text/plain": [
       "<Figure size 432x288 with 1 Axes>"
      ]
     },
     "metadata": {
      "needs_background": "light"
     },
     "output_type": "display_data"
    }
   ],
   "source": [
    "# As the value of most transaction seems to be only about 15k - 20k. \n",
    "# Lets limit the data further\n",
    "\n",
    "time_anaysis[(time_anaysis['class'] == 0) & \n",
    "             (time_anaysis.amount_value <= 20000)].amount_value.plot.hist(title = 'Histogram of non-fraudulent transactions (amount_value <= 30k)')"
   ]
  },
  {
   "cell_type": "code",
   "execution_count": 40,
   "metadata": {},
   "outputs": [
    {
     "data": {
      "text/plain": [
       "<matplotlib.axes._subplots.AxesSubplot at 0x7f48a2b11cd0>"
      ]
     },
     "execution_count": 40,
     "metadata": {},
     "output_type": "execute_result"
    },
    {
     "data": {
      "image/png": "[encoded data removed]",
      "text/plain": [
       "<Figure size 432x288 with 1 Axes>"
      ]
     },
     "metadata": {
      "needs_background": "light"
     },
     "output_type": "display_data"
    }
   ],
   "source": [
    "time_anaysis[time_anaysis['class'] == 1].amount_value.plot.hist(title = 'Histogram of fraudulent transactions')"
   ]
  },
  {
   "cell_type": "code",
   "execution_count": 41,
   "metadata": {},
   "outputs": [
    {
     "data": {
      "text/plain": [
       "50025"
      ]
     },
     "execution_count": 41,
     "metadata": {},
     "output_type": "execute_result"
    }
   ],
   "source": [
    "len(time_anaysis[time_anaysis['class'] == 1])"
   ]
  },
  {
   "cell_type": "markdown",
   "metadata": {},
   "source": [
    "There doesn't appears to be any difference visually.\n",
    "For the hypothesis test I will be performing a Z-test, with the valid transactions acting as the population. "
   ]
  },
  {
   "cell_type": "code",
   "execution_count": 42,
   "metadata": {},
   "outputs": [],
   "source": [
    "population = time_anaysis[time_anaysis['class'] == 0].amount_value\n",
    "sample = time_anaysis[time_anaysis['class'] == 1].amount_value\n",
    "sample_mean = sample.mean()\n",
    "population_std = population.std()\n",
    "population_mean = population.mean()"
   ]
  },
  {
   "cell_type": "code",
   "execution_count": 43,
   "metadata": {},
   "outputs": [
    {
     "data": {
      "text/plain": [
       "0.6103437308975733"
      ]
     },
     "execution_count": 43,
     "metadata": {},
     "output_type": "execute_result"
    }
   ],
   "source": [
    "z_score = (sample_mean - population_mean) / (population_std / sample.size ** 0.5)\n",
    "z_score"
   ]
  },
  {
   "cell_type": "markdown",
   "metadata": {},
   "source": [
    "As the z-score is more than 2.326 we reject the Null hypothesis. \n",
    "\n",
    "So there is a 99% chance that the amount spend on fraudulent transactions are on average similar or lower value as normal transactions. \n",
    "As it can be observed in the histograms in absolute terms normal transactions almost the same value with fraudulent transactions."
   ]
  },
  {
   "cell_type": "markdown",
   "metadata": {},
   "source": [
    "###  EDA - Second chance (let's see better)\n",
    "- plot the amount of transactions vs. time for fraudulent and non-fraudulent as welll as the distributions of amounts for each case.\n",
    "\n",
    "Does the fraudulent transactions have higher or lower amounts (on average) than non-fraudulent and if they follow any temoporal pattern?"
   ]
  },
  {
   "cell_type": "code",
   "execution_count": 44,
   "metadata": {},
   "outputs": [],
   "source": [
    "df= train_df"
   ]
  },
  {
   "cell_type": "code",
   "execution_count": 45,
   "metadata": {},
   "outputs": [
    {
     "data": {
      "image/png": "[encoded data removed]",
      "text/plain": [
       "<Figure size 432x288 with 3 Axes>"
      ]
     },
     "metadata": {
      "needs_background": "light"
     },
     "output_type": "display_data"
    }
   ],
   "source": [
    "import matplotlib.pyplot as plt\n",
    "fig, ax = plt.subplots(1, 3)\n",
    "ax[0].scatter(df['time_dif'][df['class'] == 0], \n",
    "              df['amount_value'][df['class']==0], \n",
    "              color='b' )\n",
    "ax[0].scatter(df['time_dif'][df['class'] == 1], \n",
    "              df['amount_value'][df['class']==1], \n",
    "              color='r' , marker='.')\n",
    "ax[0].legend(['non fraudulent', 'fraudulent'], loc='best')\n",
    "ax[1].hist(df['amount_value'][df['class']==0], 100, facecolor='b', alpha=0.5,\n",
    "           label=\"Distribution of amounts for non-fraudulent\", range = [0,2000])\n",
    "ax[2].hist( df['amount_value'][df['class']==1], 100, facecolor='r', ec=\"black\", lw=0.5, alpha=0.5, \n",
    "           label=\"Distribution of amounts for fraudulent\", range = [0,2000])\n",
    "ax[0].set_xlabel(\"time_dif\")\n",
    "ax[0].set_ylabel(\"amount_value\")\n",
    "ax[1].set_xlabel(\"amount_value\")\n",
    "ax[1].set_ylabel(\"frequency\")\n",
    "ax[2].set_xlabel(\"amount_value\")\n",
    "ax[2].set_ylabel(\"frequency\")\n",
    "ax[1].set_title('non-fraudulent')\n",
    "ax[2].set_title('fraudulent')\n",
    "fig.subplots_adjust(left=0, right=2, bottom=0, top=1, hspace=0.05, wspace=0.5)"
   ]
  }
 ],
 "metadata": {
  "kernelspec": {
   "display_name": "Python 3",
   "language": "python",
   "name": "python3"
  },
  "language_info": {
   "codemirror_mode": {
    "name": "ipython",
    "version": 3
   },
   "file_extension": ".py",
   "mimetype": "text/x-python",
   "name": "python",
   "nbconvert_exporter": "python",
   "pygments_lexer": "ipython3",
   "version": "3.7.7"
  }
 },
 "nbformat": 4,
 "nbformat_minor": 2
}
