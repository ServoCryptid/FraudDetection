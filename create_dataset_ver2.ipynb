{
 "cells": [
  {
   "cell_type": "code",
   "execution_count": null,
   "metadata": {},
   "outputs": [],
   "source": [
    "import pandas as pd\n",
    "import random\n",
    "import numpy as np"
   ]
  },
  {
   "cell_type": "code",
   "execution_count": null,
   "metadata": {},
   "outputs": [],
   "source": [
    "# 100k dataset for train + valid\n",
    "# 10k for test"
   ]
  },
  {
   "cell_type": "code",
   "execution_count": null,
   "metadata": {},
   "outputs": [],
   "source": [
    "columns = ['id',\n",
    "           'amount_currency',\n",
    "           'amount_value',\n",
    "           'channel',\n",
    "           'deviceDetails_browser',\n",
    "           'deviceDetails_device',\n",
    "           'deviceDetails_deviceIp',\n",
    "           'merchantRefTransactionId',\n",
    "           'paymentMethod_apmType',\n",
    "           'paymentMethod_cardNumber',\n",
    "           'paymentMethod_cardSubType',\n",
    "           'paymentMethod_cardType',\n",
    "           'paymentMethod_cvv',\n",
    "           'paymentMethod_encodedPaymentToken',\n",
    "           'paymentMethod_expiryMonth',\n",
    "           'paymentMethod_expiryYear',\n",
    "           'shopperDetails_address_city',\n",
    "           'shopperDetails_address_country',\n",
    "           'shopperDetails_address_state',\n",
    "           'shopperDetails_email',\n",
    "           'shopperDetails_firstName',\n",
    "           'shopperDetails_lastName',\n",
    "           'shopperDetails_phoneNumber',\n",
    "           'shopperDetails_shopperKey']"
   ]
  },
  {
   "cell_type": "code",
   "execution_count": null,
   "metadata": {},
   "outputs": [],
   "source": [
    "# fraud\n",
    "def get_fraud_amount(row):\n",
    "    return round(random.uniform(0.00, 100000), 2)"
   ]
  },
  {
   "cell_type": "code",
   "execution_count": null,
   "metadata": {},
   "outputs": [],
   "source": [
    "# nonfraud\n",
    "def get_nonfraud_amount(row):\n",
    "    return round(random.uniform(80000.00, 700000), 2)"
   ]
  },
  {
   "cell_type": "code",
   "execution_count": null,
   "metadata": {},
   "outputs": [],
   "source": [
    "card_numbers = 1000\n",
    "numbers_of_rows_in_dataset = 10000\n",
    "# data = initial_values(numbers_of_rows_in_dataset)\n",
    "# ml_set = pd.DataFrame(data)\n",
    "card_set = pd.DataFrame(columns=['paymentMethod_cvv', 'paymentMethod_cardNumber'], index=np.arange(1000))"
   ]
  },
  {
   "cell_type": "code",
   "execution_count": null,
   "metadata": {},
   "outputs": [],
   "source": [
    "# fraud\n",
    "def get_fraud_currency(row):\n",
    "    return \"EURO\""
   ]
  },
  {
   "cell_type": "code",
   "execution_count": null,
   "metadata": {},
   "outputs": [],
   "source": [
    "# nonfraud\n",
    "def get_nonfraud_currency(row):\n",
    "    return random.choice([\"EURO\", \"USD\"])\n"
   ]
  },
  {
   "cell_type": "code",
   "execution_count": null,
   "metadata": {},
   "outputs": [],
   "source": [
    "# fraud \n",
    "def get_fraud_channel(row):\n",
    "    return \"online\""
   ]
  },
  {
   "cell_type": "code",
   "execution_count": null,
   "metadata": {},
   "outputs": [],
   "source": [
    "# nonfraud \n",
    "def get_nonfraud_channel(row):\n",
    "    return random.choice([\"pos\", \"online\", \"virtual\", \"mobile\"])"
   ]
  },
  {
   "cell_type": "code",
   "execution_count": null,
   "metadata": {},
   "outputs": [],
   "source": [
    "ml_set['channel'] = ml_set.apply(random_channel, axis = 1)"
   ]
  },
  {
   "cell_type": "code",
   "execution_count": null,
   "metadata": {},
   "outputs": [],
   "source": [
    "ml_set.channel.unique()"
   ]
  },
  {
   "cell_type": "code",
   "execution_count": null,
   "metadata": {},
   "outputs": [],
   "source": [
    "def deviceDetails_browser(row):\n",
    "    browser = ''\n",
    "    rnd =  random.randrange(101)\n",
    "    if  0 < rnd <= 10:\n",
    "        browser = 'mozilla'\n",
    "    elif 10 < rnd <= 50:\n",
    "        browser = 'chrome'\n",
    "    elif 51 < rnd <= 100:\n",
    "        browser = 'edge'\n",
    "    else:\n",
    "        browser = 'chromio'\n",
    "    \n",
    "    return browser"
   ]
  },
  {
   "cell_type": "code",
   "execution_count": null,
   "metadata": {},
   "outputs": [],
   "source": [
    "ml_set['deviceDetails_browser'] = ml_set.apply(deviceDetails_browser, axis = 1)"
   ]
  },
  {
   "cell_type": "code",
   "execution_count": null,
   "metadata": {},
   "outputs": [],
   "source": [
    "# fraud \n",
    "def get_fraud_device(row):\n",
    "    return random.choice([\"mobile\", \"pc\"])"
   ]
  },
  {
   "cell_type": "code",
   "execution_count": null,
   "metadata": {},
   "outputs": [],
   "source": [
    "# nonfraud \n",
    "def get_nonfraud_device(row):\n",
    "    return random.choice([\"mobile\", \"pc\", \"pos\"])"
   ]
  },
  {
   "cell_type": "code",
   "execution_count": null,
   "metadata": {},
   "outputs": [],
   "source": [
    "ml_set['deviceDetails_device'] = ml_set.apply(deviceDetails_device, axis = 1)"
   ]
  },
  {
   "cell_type": "code",
   "execution_count": null,
   "metadata": {},
   "outputs": [],
   "source": [
    "import socket\n",
    "import struct\n",
    "def deviceDetails_deviceIp(row):\n",
    "    ip = socket.inet_ntoa(struct.pack('>I', random.randint(1, 0xffffffff)))\n",
    "    return ip"
   ]
  },
  {
   "cell_type": "code",
   "execution_count": null,
   "metadata": {},
   "outputs": [],
   "source": [
    "ml_set['deviceDetails_deviceIp'] = ml_set.apply(deviceDetails_deviceIp, axis = 1)"
   ]
  },
  {
   "cell_type": "code",
   "execution_count": null,
   "metadata": {},
   "outputs": [],
   "source": [
    "import string\n",
    "def merchantRefTransactionId(row):\n",
    "    letters = string.digits\n",
    "    return ''.join(random.choice(letters) for i in range(10))"
   ]
  },
  {
   "cell_type": "code",
   "execution_count": null,
   "metadata": {},
   "outputs": [],
   "source": [
    "ml_set['merchantRefTransactionId'] = ml_set.apply(merchantRefTransactionId, axis = 1)"
   ]
  },
  {
   "cell_type": "code",
   "execution_count": null,
   "metadata": {},
   "outputs": [],
   "source": [
    "def paymentMethod_apmType(row):\n",
    "    amp = ''\n",
    "    rnd =  random.randrange(101)\n",
    "    if  0 < rnd <= 10:\n",
    "        amp = 'chip'\n",
    "    elif 10 < rnd <= 50:\n",
    "        amp = 'magstripe '\n",
    "    else:\n",
    "        amp = 'nfcc'\n",
    "    \n",
    "    return amp"
   ]
  },
  {
   "cell_type": "code",
   "execution_count": null,
   "metadata": {},
   "outputs": [],
   "source": [
    "ml_set['paymentMethod_apmType'] = ml_set.apply(paymentMethod_apmType, axis = 1)"
   ]
  },
  {
   "cell_type": "code",
   "execution_count": null,
   "metadata": {},
   "outputs": [],
   "source": [
    "import string\n",
    "def paymentMethod_cardNumber(row):\n",
    "    card_number = ''\n",
    "    numbers = string.digits\n",
    "    for part in range(4):\n",
    "        card_number += ''.join((random.choice(numbers) for i in range(4))) + '-'\n",
    "    return card_number[:-1]"
   ]
  },
  {
   "cell_type": "code",
   "execution_count": null,
   "metadata": {},
   "outputs": [],
   "source": [
    "len(card_set)"
   ]
  },
  {
   "cell_type": "code",
   "execution_count": null,
   "metadata": {},
   "outputs": [],
   "source": [
    "card_set['paymentMethod_cardNumber'] = card_set.apply(paymentMethod_cardNumber, axis = 1)"
   ]
  },
  {
   "cell_type": "code",
   "execution_count": null,
   "metadata": {},
   "outputs": [],
   "source": [
    "import string\n",
    "def paymentMethod_cvv(row):\n",
    "    numbers = string.digits\n",
    "    return ''.join((random.choice(numbers) for i in range(3)))"
   ]
  },
  {
   "cell_type": "code",
   "execution_count": null,
   "metadata": {},
   "outputs": [],
   "source": [
    "card_set['paymentMethod_cvv'] = card_set.apply(paymentMethod_cvv, axis = 1)"
   ]
  },
  {
   "cell_type": "code",
   "execution_count": null,
   "metadata": {
    "scrolled": true
   },
   "outputs": [],
   "source": [
    "card_set.head()"
   ]
  },
  {
   "cell_type": "code",
   "execution_count": null,
   "metadata": {},
   "outputs": [],
   "source": [
    "card_set.to_csv(\"card_set.csv\", index=False)"
   ]
  },
  {
   "cell_type": "code",
   "execution_count": null,
   "metadata": {},
   "outputs": [],
   "source": [
    "# fraud \n",
    "def get_fraud_cardtype():\n",
    "    return random.choice([\"MasterCard\", \"Visa\"])"
   ]
  },
  {
   "cell_type": "code",
   "execution_count": null,
   "metadata": {},
   "outputs": [],
   "source": [
    "# nonfraud \n",
    "def get_nonfraud_cardtype():\n",
    "    return random.choice([\"MasterCard\", \"Visa\", \"Discover\", \"JCB\", \"American Express\"])"
   ]
  },
  {
   "cell_type": "code",
   "execution_count": null,
   "metadata": {},
   "outputs": [],
   "source": [
    "ml_set['paymentMethod_cardType'] = ml_set.apply(paymentMethod_cardType, axis = 1)"
   ]
  },
  {
   "cell_type": "code",
   "execution_count": null,
   "metadata": {},
   "outputs": [],
   "source": [
    "def paymentMethod_cardSubType(row):\n",
    "    card_subtype = ''\n",
    "    rnd =  random.randrange(201)\n",
    "    if  0 < rnd <= 10:\n",
    "        card_subtype = 'Secured'\n",
    "    elif 10 < rnd <= 50:\n",
    "        card_subtype = 'Prepaid '\n",
    "    elif 51 < rnd <= 100:\n",
    "        card_subtype = 'Business '\n",
    "    elif 101 < rnd <= 200:\n",
    "        card_subtype = 'Student'\n",
    "    else:\n",
    "        card_subtype = \"Generic\"\n",
    "    \n",
    "    return card_subtype"
   ]
  },
  {
   "cell_type": "code",
   "execution_count": null,
   "metadata": {},
   "outputs": [],
   "source": [
    "ml_set['paymentMethod_cardSubType'] = ml_set.apply(paymentMethod_cardSubType, axis = 1)"
   ]
  },
  {
   "cell_type": "code",
   "execution_count": null,
   "metadata": {},
   "outputs": [],
   "source": [
    "def paymentMethod_encodedPaymentToken(row):\n",
    "    letters = string.ascii_letters\n",
    "    return ''.join(random.choice(letters) for i in range(8))"
   ]
  },
  {
   "cell_type": "code",
   "execution_count": null,
   "metadata": {},
   "outputs": [],
   "source": [
    "ml_set['paymentMethod_encodedPaymentToken'] = ml_set.apply(paymentMethod_encodedPaymentToken, axis = 1)"
   ]
  },
  {
   "cell_type": "code",
   "execution_count": null,
   "metadata": {},
   "outputs": [],
   "source": [
    "ml_set.head(5)"
   ]
  },
  {
   "cell_type": "code",
   "execution_count": null,
   "metadata": {},
   "outputs": [],
   "source": [
    "from random import randrange\n",
    "\n",
    "def paymentMethod_expiryMonth(row):\n",
    "    return randrange(12)"
   ]
  },
  {
   "cell_type": "code",
   "execution_count": null,
   "metadata": {},
   "outputs": [],
   "source": [
    "ml_set['paymentMethod_expiryMonth'] = ml_set.apply(paymentMethod_expiryMonth, axis = 1)"
   ]
  },
  {
   "cell_type": "code",
   "execution_count": null,
   "metadata": {},
   "outputs": [],
   "source": [
    "from random import randrange\n",
    "\n",
    "def paymentMethod_expiryYear(row):\n",
    "    start_year = randrange(2018,2020)\n",
    "    return randrange(start_year, start_year + 10)"
   ]
  },
  {
   "cell_type": "code",
   "execution_count": null,
   "metadata": {},
   "outputs": [],
   "source": [
    "ml_set['paymentMethod_expiryYear'] = ml_set.apply(paymentMethod_expiryYear, axis = 1)"
   ]
  },
  {
   "cell_type": "code",
   "execution_count": null,
   "metadata": {},
   "outputs": [],
   "source": [
    "def get_year():\n",
    "    return random.choice([2020, 2019])"
   ]
  },
  {
   "cell_type": "code",
   "execution_count": null,
   "metadata": {},
   "outputs": [],
   "source": [
    "def get_fraund_month():\n",
    "    return random.choice([7, 8, 11, 12])"
   ]
  },
  {
   "cell_type": "code",
   "execution_count": null,
   "metadata": {},
   "outputs": [],
   "source": [
    "def get_nonfraund_month():\n",
    "    return random.randint(1, 12)"
   ]
  },
  {
   "cell_type": "code",
   "execution_count": null,
   "metadata": {},
   "outputs": [],
   "source": [
    "def get_day():\n",
    "    return random.randint(1, 31)"
   ]
  },
  {
   "cell_type": "code",
   "execution_count": null,
   "metadata": {},
   "outputs": [],
   "source": [
    "def get_fraund_time():\n",
    "    hour = random.randint(1, 4)\n",
    "    mn = random.randint(0, 60)\n",
    "    s = random.randint(0, 60)\n",
    "    return f\"{hour}:{mn}:{s}\""
   ]
  },
  {
   "cell_type": "code",
   "execution_count": null,
   "metadata": {},
   "outputs": [],
   "source": [
    "def get_nonfraund_time():\n",
    "    hour = random.randint(0, 23)\n",
    "    mn = random.randint(0, 60)\n",
    "    s = random.randint(0, 60)\n",
    "    return f\"{hour}:{mn}:{s}\""
   ]
  },
  {
   "cell_type": "code",
   "execution_count": null,
   "metadata": {},
   "outputs": [],
   "source": [
    "from datetime import datetime\n",
    "from datetime import timedelta\n",
    "\n",
    "\n",
    "def get_fraud_transaction_time(row):\n",
    "    start_date = datetime.strptime('1/1/2019 1:30 PM', '%m/%d/%Y %I:%M %p')\n",
    "    end_date = datetime.strptime('12/1/2020 1:30 PM', '%m/%d/%Y %I:%M %p')\n",
    "    delta = end_date - start_date\n",
    "    int_delta = (delta.days * 24 * 60 * 60) + delta.seconds\n",
    "    random_second = randrange(int_delta)\n",
    "    return start_date + timedelta(seconds=random_second)\n"
   ]
  },
  {
   "cell_type": "code",
   "execution_count": null,
   "metadata": {},
   "outputs": [],
   "source": [
    "ml_set['transaction_time'] = ml_set.apply(get_transaction_time, axis = 1)"
   ]
  },
  {
   "cell_type": "code",
   "execution_count": null,
   "metadata": {},
   "outputs": [],
   "source": [
    "ml_set['transaction_time']"
   ]
  },
  {
   "cell_type": "code",
   "execution_count": null,
   "metadata": {},
   "outputs": [],
   "source": [
    "def label_transaction(row):\n",
    "    return  random.randrange(2)"
   ]
  },
  {
   "cell_type": "code",
   "execution_count": null,
   "metadata": {},
   "outputs": [],
   "source": [
    "ml_set['class'] = ml_set.apply(label_transaction, axis = 1)"
   ]
  },
  {
   "cell_type": "code",
   "execution_count": null,
   "metadata": {},
   "outputs": [],
   "source": [
    "ml_set['class'].value_counts()"
   ]
  },
  {
   "cell_type": "code",
   "execution_count": null,
   "metadata": {},
   "outputs": [],
   "source": [
    "ml_set.head(5)\n",
    "len(ml_set)"
   ]
  },
  {
   "cell_type": "code",
   "execution_count": null,
   "metadata": {},
   "outputs": [],
   "source": [
    "# ml_set.to_csv('test.csv', index=False)"
   ]
  },
  {
   "cell_type": "code",
   "execution_count": null,
   "metadata": {},
   "outputs": [],
   "source": [
    "# generate non-fraud dataset\n",
    "#1 200 000 obs\n",
    "\n",
    "card_ids = pd.read_csv(\"card_set.csv\")\n",
    "card_ids.iloc[1]"
   ]
  },
  {
   "cell_type": "code",
   "execution_count": null,
   "metadata": {},
   "outputs": [],
   "source": [
    "accumulator_arr = []\n",
    "\n",
    "for i in range(0, 1200000):\n",
    "    row = random.randint(0, 999)\n",
    "    print(row)\n",
    "    accumulator_arr.append(card_ids.iloc[row])\n",
    "                           \n",
    "nonfraud_df = pd.DataFrame(data=accumulator_arr, columns=card_ids.columns)\n",
    "print(nonfraud_df)"
   ]
  },
  {
   "cell_type": "code",
   "execution_count": null,
   "metadata": {},
   "outputs": [],
   "source": [
    "nonfraud_df['amount_currency'] = nonfraud_df.apply(get_nonfraud_currency, axis=1)\n",
    "print(nonfraud_df)"
   ]
  },
  {
   "cell_type": "code",
   "execution_count": null,
   "metadata": {},
   "outputs": [],
   "source": [
    "nonfraud_df['amount_value'] = nonfraud_df.apply(get_nonfraud_amount, axis=1)\n",
    "print(nonfraud_df)"
   ]
  },
  {
   "cell_type": "code",
   "execution_count": null,
   "metadata": {},
   "outputs": [],
   "source": [
    "nonfraud_df['channel'] = nonfraud_df.apply(get_nonfraud_channel, axis=1)\n",
    "print(nonfraud_df)"
   ]
  },
  {
   "cell_type": "code",
   "execution_count": null,
   "metadata": {},
   "outputs": [],
   "source": [
    "nonfraud_df['deviceDetails_browser'] = nonfraud_df.apply(deviceDetails_browser, axis=1)\n",
    "print(nonfraud_df)"
   ]
  },
  {
   "cell_type": "code",
   "execution_count": null,
   "metadata": {},
   "outputs": [],
   "source": [
    "nonfraud_df['deviceDetails_device'] = nonfraud_df.apply(get_nonfraud_device, axis=1)\n",
    "print(nonfraud_df)"
   ]
  },
  {
   "cell_type": "code",
   "execution_count": null,
   "metadata": {},
   "outputs": [],
   "source": [
    "nonfraud_df['deviceDetails_deviceIp'] = nonfraud_df.apply(deviceDetails_deviceIp, axis=1)\n",
    "print(nonfraud_df)"
   ]
  },
  {
   "cell_type": "code",
   "execution_count": null,
   "metadata": {},
   "outputs": [],
   "source": [
    "nonfraud_df['merchantRefTransactionId'] = nonfraud_df.apply(merchantRefTransactionId, axis=1)\n",
    "print(nonfraud_df)"
   ]
  },
  {
   "cell_type": "code",
   "execution_count": null,
   "metadata": {},
   "outputs": [],
   "source": [
    "nonfraud_df['paymentMethod_apmType'] = nonfraud_df.apply(paymentMethod_apmType, axis=1)\n",
    "print(nonfraud_df)"
   ]
  },
  {
   "cell_type": "code",
   "execution_count": null,
   "metadata": {},
   "outputs": [],
   "source": [
    "nonfraud_df['paymentMethod_cardSubType'] = nonfraud_df.apply(paymentMethod_cardSubType, axis=1)\n",
    "print(nonfraud_df)"
   ]
  },
  {
   "cell_type": "code",
   "execution_count": null,
   "metadata": {},
   "outputs": [],
   "source": [
    "nonfraud_df['paymentMethod_cardType'] = nonfraud_df.apply(get_nonfraud_cardtype, axis=1)\n",
    "print(nonfraud_df)"
   ]
  },
  {
   "cell_type": "code",
   "execution_count": null,
   "metadata": {},
   "outputs": [],
   "source": [
    "nonfraud_df['paymentMethod_expiryMonth'] = nonfraud_df.apply(get_nonfraund_month, axis=1)\n",
    "print(nonfraud_df)"
   ]
  },
  {
   "cell_type": "code",
   "execution_count": null,
   "metadata": {},
   "outputs": [],
   "source": [
    "nonfraud_df['paymentMethod_expiryYear'] = nonfraud_df.apply(get_year, axis=1)\n",
    "print(nonfraud_df)"
   ]
  },
  {
   "cell_type": "code",
   "execution_count": null,
   "metadata": {},
   "outputs": [],
   "source": [
    "nonfraud_df['transaction_time'] = nonfraud_df.apply(get_nonfraud_time, axis=1)\n",
    "print(nonfraud_df)"
   ]
  },
  {
   "cell_type": "code",
   "execution_count": null,
   "metadata": {},
   "outputs": [],
   "source": [
    "nonfraud_df['class'] = 0\n",
    "print(nonfraud_df)"
   ]
  },
  {
   "cell_type": "code",
   "execution_count": null,
   "metadata": {},
   "outputs": [],
   "source": [
    "nonfraud_df['paymentMethod_encodedPaymentToken'] = nonfraud_df.apply(paymentMethod_encodedPaymentToken, axis=1)\n",
    "print(nonfraud_df)"
   ]
  },
  {
   "cell_type": "code",
   "execution_count": null,
   "metadata": {},
   "outputs": [],
   "source": [
    "len(nonfraud_df.columns)"
   ]
  },
  {
   "cell_type": "code",
   "execution_count": null,
   "metadata": {},
   "outputs": [],
   "source": [
    "nonfraud_df.columns"
   ]
  },
  {
   "cell_type": "code",
   "execution_count": null,
   "metadata": {},
   "outputs": [],
   "source": [
    "nonfraud_df.to_csv(\"non_fraud.csv\", index=False)"
   ]
  },
  {
   "cell_type": "code",
   "execution_count": null,
   "metadata": {},
   "outputs": [],
   "source": [
    "test_df = pd.read_csv(\"test.csv\")\n",
    "len(test_df.columns)"
   ]
  }
 ],
 "metadata": {
  "kernelspec": {
   "display_name": "Python 3",
   "language": "python",
   "name": "python3"
  },
  "language_info": {
   "codemirror_mode": {
    "name": "ipython",
    "version": 3
   },
   "file_extension": ".py",
   "mimetype": "text/x-python",
   "name": "python",
   "nbconvert_exporter": "python",
   "pygments_lexer": "ipython3",
   "version": "3.8.3"
  }
 },
 "nbformat": 4,
 "nbformat_minor": 4
}
