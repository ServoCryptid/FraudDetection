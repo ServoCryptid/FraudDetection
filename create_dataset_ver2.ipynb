{
 "cells": [
  {
   "cell_type": "code",
   "execution_count": 19,
   "metadata": {},
   "outputs": [],
   "source": [
    "import pandas as pd\n",
    "import random\n",
    "import numpy as np"
   ]
  },
  {
   "cell_type": "code",
   "execution_count": 9,
   "metadata": {},
   "outputs": [],
   "source": [
    "# 100k dataset for train + valid\n",
    "# 10k for test"
   ]
  },
  {
   "cell_type": "code",
   "execution_count": 10,
   "metadata": {},
   "outputs": [],
   "source": [
    "columns = ['id',\n",
    "           'amount_currency',\n",
    "           'amount_value',\n",
    "           'channel',\n",
    "           'deviceDetails_browser',\n",
    "           'deviceDetails_device',\n",
    "           'deviceDetails_deviceIp',\n",
    "           'merchantRefTransactionId',\n",
    "           'paymentMethod_apmType',\n",
    "           'paymentMethod_cardNumber',\n",
    "           'paymentMethod_cardSubType',\n",
    "           'paymentMethod_cardType',\n",
    "           'paymentMethod_cvv',\n",
    "           'paymentMethod_encodedPaymentToken',\n",
    "           'paymentMethod_expiryMonth',\n",
    "           'paymentMethod_expiryYear',\n",
    "           'shopperDetails_address_city',\n",
    "           'shopperDetails_address_country',\n",
    "           'shopperDetails_address_state',\n",
    "           'shopperDetails_email',\n",
    "           'shopperDetails_firstName',\n",
    "           'shopperDetails_lastName',\n",
    "           'shopperDetails_phoneNumber',\n",
    "           'shopperDetails_shopperKey']"
   ]
  },
  {
   "cell_type": "code",
   "execution_count": 11,
   "metadata": {},
   "outputs": [],
   "source": [
    "# fraud\n",
    "def get_fraud_amount():\n",
    "    return round(random.uniform(0.00, 100000), 2)"
   ]
  },
  {
   "cell_type": "code",
   "execution_count": null,
   "metadata": {},
   "outputs": [],
   "source": [
    "# nonfraud\n",
    "def get_nonfraud_amount():\n",
    "    return round(random.uniform(80000.00, 700000), 2)"
   ]
  },
  {
   "cell_type": "code",
   "execution_count": 20,
   "metadata": {},
   "outputs": [],
   "source": [
    "card_numbers = 1000\n",
    "numbers_of_rows_in_dataset = 10000\n",
    "# data = initial_values(numbers_of_rows_in_dataset)\n",
    "# ml_set = pd.DataFrame(data)\n",
    "card_set = pd.DataFrame(columns=['paymentMethod_cvv', 'paymentMethod_cardNumber'], index=np.arange(1000))"
   ]
  },
  {
   "cell_type": "code",
   "execution_count": null,
   "metadata": {},
   "outputs": [],
   "source": [
    "# fraud\n",
    "def get_fraud_currency():\n",
    "    return \"EURO\""
   ]
  },
  {
   "cell_type": "code",
   "execution_count": null,
   "metadata": {},
   "outputs": [],
   "source": [
    "# nonfraud\n",
    "def get_nonfraud_currency():\n",
    "    return random.choice([\"EURO\", \"USD\"])\n"
   ]
  },
  {
   "cell_type": "code",
   "execution_count": null,
   "metadata": {},
   "outputs": [],
   "source": [
    "# fraud \n",
    "def get_fraud_channel():\n",
    "    return \"online\""
   ]
  },
  {
   "cell_type": "code",
   "execution_count": 4,
   "metadata": {},
   "outputs": [],
   "source": [
    "# nonfraud \n",
    "def get_nonfraud_channel():\n",
    "    return random.choice([\"pos\", \"online\", \"virtual\", \"mobile\"])"
   ]
  },
  {
   "cell_type": "code",
   "execution_count": 78,
   "metadata": {},
   "outputs": [],
   "source": [
    "ml_set['channel'] = ml_set.apply(random_channel, axis = 1)"
   ]
  },
  {
   "cell_type": "code",
   "execution_count": 79,
   "metadata": {},
   "outputs": [
    {
     "data": {
      "text/plain": [
       "array(['virtual', 'online', 'pos', 'mobile'], dtype=object)"
      ]
     },
     "execution_count": 79,
     "metadata": {},
     "output_type": "execute_result"
    }
   ],
   "source": [
    "ml_set.channel.unique()"
   ]
  },
  {
   "cell_type": "code",
   "execution_count": 80,
   "metadata": {},
   "outputs": [],
   "source": [
    "def deviceDetails_browser(row):\n",
    "    browser = ''\n",
    "    rnd =  random.randrange(101)\n",
    "    if  0 < rnd <= 10:\n",
    "        browser = 'mozilla'\n",
    "    elif 10 < rnd <= 50:\n",
    "        browser = 'chrome'\n",
    "    elif 51 < rnd <= 100:\n",
    "        browser = 'edge'\n",
    "    else:\n",
    "        browser = 'chromio'\n",
    "    \n",
    "    return browser"
   ]
  },
  {
   "cell_type": "code",
   "execution_count": 81,
   "metadata": {},
   "outputs": [],
   "source": [
    "ml_set['deviceDetails_browser'] = ml_set.apply(deviceDetails_browser, axis = 1)"
   ]
  },
  {
   "cell_type": "code",
   "execution_count": null,
   "metadata": {},
   "outputs": [],
   "source": [
    "# fraud \n",
    "def get_fraud_device():\n",
    "    return random.choice([\"mobile\", \"pc\"])"
   ]
  },
  {
   "cell_type": "code",
   "execution_count": 4,
   "metadata": {},
   "outputs": [],
   "source": [
    "# nonfraud \n",
    "def get_nonfraud_device():\n",
    "    return random.choice([\"mobile\", \"pc\", \"pos\"])"
   ]
  },
  {
   "cell_type": "code",
   "execution_count": 83,
   "metadata": {},
   "outputs": [],
   "source": [
    "ml_set['deviceDetails_device'] = ml_set.apply(deviceDetails_device, axis = 1)"
   ]
  },
  {
   "cell_type": "code",
   "execution_count": 84,
   "metadata": {},
   "outputs": [],
   "source": [
    "import socket\n",
    "import struct\n",
    "def deviceDetails_deviceIp(row):\n",
    "    ip = socket.inet_ntoa(struct.pack('>I', random.randint(1, 0xffffffff)))\n",
    "    return ip"
   ]
  },
  {
   "cell_type": "code",
   "execution_count": 85,
   "metadata": {},
   "outputs": [],
   "source": [
    "ml_set['deviceDetails_deviceIp'] = ml_set.apply(deviceDetails_deviceIp, axis = 1)"
   ]
  },
  {
   "cell_type": "code",
   "execution_count": 86,
   "metadata": {},
   "outputs": [],
   "source": [
    "import string\n",
    "def merchantRefTransactionId(row):\n",
    "    letters = string.digits\n",
    "    return ''.join(random.choice(letters) for i in range(10))"
   ]
  },
  {
   "cell_type": "code",
   "execution_count": 87,
   "metadata": {},
   "outputs": [],
   "source": [
    "ml_set['merchantRefTransactionId'] = ml_set.apply(merchantRefTransactionId, axis = 1)"
   ]
  },
  {
   "cell_type": "code",
   "execution_count": 88,
   "metadata": {},
   "outputs": [],
   "source": [
    "def paymentMethod_apmType(row):\n",
    "    amp = ''\n",
    "    rnd =  random.randrange(101)\n",
    "    if  0 < rnd <= 10:\n",
    "        amp = 'chip'\n",
    "    elif 10 < rnd <= 50:\n",
    "        amp = 'magstripe '\n",
    "    else:\n",
    "        amp = 'nfcc'\n",
    "    \n",
    "    return amp"
   ]
  },
  {
   "cell_type": "code",
   "execution_count": 89,
   "metadata": {},
   "outputs": [],
   "source": [
    "ml_set['paymentMethod_apmType'] = ml_set.apply(paymentMethod_apmType, axis = 1)"
   ]
  },
  {
   "cell_type": "code",
   "execution_count": 24,
   "metadata": {},
   "outputs": [],
   "source": [
    "import string\n",
    "def paymentMethod_cardNumber(row):\n",
    "    card_number = ''\n",
    "    numbers = string.digits\n",
    "    for part in range(4):\n",
    "        card_number += ''.join((random.choice(numbers) for i in range(4))) + '-'\n",
    "    return card_number[:-1]"
   ]
  },
  {
   "cell_type": "code",
   "execution_count": 25,
   "metadata": {},
   "outputs": [
    {
     "data": {
      "text/plain": [
       "1000"
      ]
     },
     "execution_count": 25,
     "metadata": {},
     "output_type": "execute_result"
    }
   ],
   "source": [
    "len(card_set)"
   ]
  },
  {
   "cell_type": "code",
   "execution_count": 26,
   "metadata": {},
   "outputs": [],
   "source": [
    "card_set['paymentMethod_cardNumber'] = card_set.apply(paymentMethod_cardNumber, axis = 1)"
   ]
  },
  {
   "cell_type": "code",
   "execution_count": 28,
   "metadata": {},
   "outputs": [],
   "source": [
    "import string\n",
    "def paymentMethod_cvv(row):\n",
    "    numbers = string.digits\n",
    "    return ''.join((random.choice(numbers) for i in range(3)))"
   ]
  },
  {
   "cell_type": "code",
   "execution_count": 29,
   "metadata": {},
   "outputs": [],
   "source": [
    "card_set['paymentMethod_cvv'] = card_set.apply(paymentMethod_cvv, axis = 1)"
   ]
  },
  {
   "cell_type": "code",
   "execution_count": 30,
   "metadata": {
    "scrolled": true
   },
   "outputs": [
    {
     "data": {
      "text/html": [
       "<div>\n",
       "<style scoped>\n",
       "    .dataframe tbody tr th:only-of-type {\n",
       "        vertical-align: middle;\n",
       "    }\n",
       "\n",
       "    .dataframe tbody tr th {\n",
       "        vertical-align: top;\n",
       "    }\n",
       "\n",
       "    .dataframe thead th {\n",
       "        text-align: right;\n",
       "    }\n",
       "</style>\n",
       "<table border=\"1\" class=\"dataframe\">\n",
       "  <thead>\n",
       "    <tr style=\"text-align: right;\">\n",
       "      <th></th>\n",
       "      <th>paymentMethod_cvv</th>\n",
       "      <th>paymentMethod_cardNumber</th>\n",
       "    </tr>\n",
       "  </thead>\n",
       "  <tbody>\n",
       "    <tr>\n",
       "      <th>0</th>\n",
       "      <td>628</td>\n",
       "      <td>8716-7537-0647-1392</td>\n",
       "    </tr>\n",
       "    <tr>\n",
       "      <th>1</th>\n",
       "      <td>214</td>\n",
       "      <td>7778-2416-2990-7449</td>\n",
       "    </tr>\n",
       "    <tr>\n",
       "      <th>2</th>\n",
       "      <td>533</td>\n",
       "      <td>4919-1332-2165-1842</td>\n",
       "    </tr>\n",
       "    <tr>\n",
       "      <th>3</th>\n",
       "      <td>169</td>\n",
       "      <td>9487-2578-1013-5837</td>\n",
       "    </tr>\n",
       "    <tr>\n",
       "      <th>4</th>\n",
       "      <td>516</td>\n",
       "      <td>5060-4396-1904-8798</td>\n",
       "    </tr>\n",
       "  </tbody>\n",
       "</table>\n",
       "</div>"
      ],
      "text/plain": [
       "  paymentMethod_cvv paymentMethod_cardNumber\n",
       "0               628      8716-7537-0647-1392\n",
       "1               214      7778-2416-2990-7449\n",
       "2               533      4919-1332-2165-1842\n",
       "3               169      9487-2578-1013-5837\n",
       "4               516      5060-4396-1904-8798"
      ]
     },
     "execution_count": 30,
     "metadata": {},
     "output_type": "execute_result"
    }
   ],
   "source": [
    "card_set.head()"
   ]
  },
  {
   "cell_type": "code",
   "execution_count": 31,
   "metadata": {},
   "outputs": [],
   "source": [
    "card_set.to_csv(\"card_set.csv\", index=False)"
   ]
  },
  {
   "cell_type": "code",
   "execution_count": null,
   "metadata": {},
   "outputs": [],
   "source": [
    "# fraud \n",
    "def get_fraud_cardtype():\n",
    "    return random.choice([\"MasterCard\", \"Visa\"])"
   ]
  },
  {
   "cell_type": "code",
   "execution_count": 4,
   "metadata": {},
   "outputs": [],
   "source": [
    "# nonfraud \n",
    "def get_nonfraud_cardtype():\n",
    "    return random.choice([\"MasterCard\", \"Visa\", \"Discover\", \"JCB\", \"American Express\"])"
   ]
  },
  {
   "cell_type": "code",
   "execution_count": 93,
   "metadata": {},
   "outputs": [],
   "source": [
    "ml_set['paymentMethod_cardType'] = ml_set.apply(paymentMethod_cardType, axis = 1)"
   ]
  },
  {
   "cell_type": "code",
   "execution_count": 94,
   "metadata": {},
   "outputs": [],
   "source": [
    "def paymentMethod_cardSubType(row):\n",
    "    card_subtype = ''\n",
    "    rnd =  random.randrange(201)\n",
    "    if  0 < rnd <= 10:\n",
    "        card_subtype = 'Secured'\n",
    "    elif 10 < rnd <= 50:\n",
    "        card_subtype = 'Prepaid '\n",
    "    elif 51 < rnd <= 100:\n",
    "        card_subtype = 'Business '\n",
    "    elif 101 < rnd <= 200:\n",
    "        card_subtype = 'Student'\n",
    "    else:\n",
    "        card_subtype = 'Generic'\n",
    "    \n",
    "    return card_subtype"
   ]
  },
  {
   "cell_type": "code",
   "execution_count": 95,
   "metadata": {},
   "outputs": [],
   "source": [
    "ml_set['paymentMethod_cardSubType'] = ml_set.apply(paymentMethod_cardSubType, axis = 1)"
   ]
  },
  {
   "cell_type": "code",
   "execution_count": 98,
   "metadata": {},
   "outputs": [],
   "source": [
    "def paymentMethod_encodedPaymentToken(row):\n",
    "    letters = string.ascii_letters\n",
    "    return ''.join(random.choice(letters) for i in range(8))"
   ]
  },
  {
   "cell_type": "code",
   "execution_count": 99,
   "metadata": {},
   "outputs": [],
   "source": [
    "ml_set['paymentMethod_encodedPaymentToken'] = ml_set.apply(paymentMethod_encodedPaymentToken, axis = 1)"
   ]
  },
  {
   "cell_type": "code",
   "execution_count": 100,
   "metadata": {},
   "outputs": [
    {
     "data": {
      "text/html": [
       "<div>\n",
       "<style scoped>\n",
       "    .dataframe tbody tr th:only-of-type {\n",
       "        vertical-align: middle;\n",
       "    }\n",
       "\n",
       "    .dataframe tbody tr th {\n",
       "        vertical-align: top;\n",
       "    }\n",
       "\n",
       "    .dataframe thead th {\n",
       "        text-align: right;\n",
       "    }\n",
       "</style>\n",
       "<table border=\"1\" class=\"dataframe\">\n",
       "  <thead>\n",
       "    <tr style=\"text-align: right;\">\n",
       "      <th></th>\n",
       "      <th>amount_value</th>\n",
       "      <th>id</th>\n",
       "      <th>amount_currency</th>\n",
       "      <th>channel</th>\n",
       "      <th>deviceDetails_browser</th>\n",
       "      <th>deviceDetails_device</th>\n",
       "      <th>deviceDetails_deviceIp</th>\n",
       "      <th>merchantRefTransactionId</th>\n",
       "      <th>paymentMethod_apmType</th>\n",
       "      <th>paymentMethod_cardNumber</th>\n",
       "      <th>paymentMethod_cardType</th>\n",
       "      <th>paymentMethod_cardSubType</th>\n",
       "      <th>paymentMethod_cvv</th>\n",
       "      <th>paymentMethod_encodedPaymentToken</th>\n",
       "    </tr>\n",
       "  </thead>\n",
       "  <tbody>\n",
       "    <tr>\n",
       "      <th>0</th>\n",
       "      <td>85621.45</td>\n",
       "      <td>0</td>\n",
       "      <td>USD</td>\n",
       "      <td>virtual</td>\n",
       "      <td>chrome</td>\n",
       "      <td>pos</td>\n",
       "      <td>225.76.238.186</td>\n",
       "      <td>2534859727</td>\n",
       "      <td>magstripe</td>\n",
       "      <td>6444-9854-4855-9248</td>\n",
       "      <td>Discover</td>\n",
       "      <td>Student</td>\n",
       "      <td>394</td>\n",
       "      <td>uCuKsvrW</td>\n",
       "    </tr>\n",
       "    <tr>\n",
       "      <th>1</th>\n",
       "      <td>6885.37</td>\n",
       "      <td>1</td>\n",
       "      <td>USD</td>\n",
       "      <td>online</td>\n",
       "      <td>edge</td>\n",
       "      <td>pos</td>\n",
       "      <td>22.235.47.168</td>\n",
       "      <td>3373234617</td>\n",
       "      <td>magstripe</td>\n",
       "      <td>7374-1462-5965-4580</td>\n",
       "      <td>JCB</td>\n",
       "      <td>Business</td>\n",
       "      <td>480</td>\n",
       "      <td>lVYWecct</td>\n",
       "    </tr>\n",
       "    <tr>\n",
       "      <th>2</th>\n",
       "      <td>60146.36</td>\n",
       "      <td>2</td>\n",
       "      <td>USD</td>\n",
       "      <td>virtual</td>\n",
       "      <td>edge</td>\n",
       "      <td>pos</td>\n",
       "      <td>34.50.211.154</td>\n",
       "      <td>4596280497</td>\n",
       "      <td>chip</td>\n",
       "      <td>2366-2404-8271-1630</td>\n",
       "      <td>Discover</td>\n",
       "      <td>Student</td>\n",
       "      <td>263</td>\n",
       "      <td>iXTHSnGH</td>\n",
       "    </tr>\n",
       "    <tr>\n",
       "      <th>3</th>\n",
       "      <td>40372.97</td>\n",
       "      <td>3</td>\n",
       "      <td>USD</td>\n",
       "      <td>virtual</td>\n",
       "      <td>edge</td>\n",
       "      <td>mobile</td>\n",
       "      <td>35.47.40.5</td>\n",
       "      <td>7486781647</td>\n",
       "      <td>magstripe</td>\n",
       "      <td>1528-9270-7336-2735</td>\n",
       "      <td>Visa</td>\n",
       "      <td>Business</td>\n",
       "      <td>469</td>\n",
       "      <td>nFnmjYWb</td>\n",
       "    </tr>\n",
       "    <tr>\n",
       "      <th>4</th>\n",
       "      <td>43803.75</td>\n",
       "      <td>4</td>\n",
       "      <td>USD</td>\n",
       "      <td>virtual</td>\n",
       "      <td>chrome</td>\n",
       "      <td>pos</td>\n",
       "      <td>247.164.216.72</td>\n",
       "      <td>8375107852</td>\n",
       "      <td>nfcc</td>\n",
       "      <td>8977-0947-5649-8057</td>\n",
       "      <td>Visa</td>\n",
       "      <td>Student</td>\n",
       "      <td>162</td>\n",
       "      <td>gMcMMAuC</td>\n",
       "    </tr>\n",
       "  </tbody>\n",
       "</table>\n",
       "</div>"
      ],
      "text/plain": [
       "   amount_value  id amount_currency  channel deviceDetails_browser  \\\n",
       "0      85621.45   0             USD  virtual                chrome   \n",
       "1       6885.37   1             USD   online                  edge   \n",
       "2      60146.36   2             USD  virtual                  edge   \n",
       "3      40372.97   3             USD  virtual                  edge   \n",
       "4      43803.75   4             USD  virtual                chrome   \n",
       "\n",
       "  deviceDetails_device deviceDetails_deviceIp merchantRefTransactionId  \\\n",
       "0                  pos         225.76.238.186               2534859727   \n",
       "1                  pos          22.235.47.168               3373234617   \n",
       "2                  pos          34.50.211.154               4596280497   \n",
       "3               mobile             35.47.40.5               7486781647   \n",
       "4                  pos         247.164.216.72               8375107852   \n",
       "\n",
       "  paymentMethod_apmType paymentMethod_cardNumber paymentMethod_cardType  \\\n",
       "0            magstripe       6444-9854-4855-9248              Discover    \n",
       "1            magstripe       7374-1462-5965-4580                    JCB   \n",
       "2                  chip      2366-2404-8271-1630              Discover    \n",
       "3            magstripe       1528-9270-7336-2735                  Visa    \n",
       "4                  nfcc      8977-0947-5649-8057                  Visa    \n",
       "\n",
       "  paymentMethod_cardSubType paymentMethod_cvv  \\\n",
       "0                   Student               394   \n",
       "1                 Business                480   \n",
       "2                   Student               263   \n",
       "3                 Business                469   \n",
       "4                   Student               162   \n",
       "\n",
       "  paymentMethod_encodedPaymentToken  \n",
       "0                          uCuKsvrW  \n",
       "1                          lVYWecct  \n",
       "2                          iXTHSnGH  \n",
       "3                          nFnmjYWb  \n",
       "4                          gMcMMAuC  "
      ]
     },
     "execution_count": 100,
     "metadata": {},
     "output_type": "execute_result"
    }
   ],
   "source": [
    "ml_set.head(5)"
   ]
  },
  {
   "cell_type": "code",
   "execution_count": 101,
   "metadata": {},
   "outputs": [],
   "source": [
    "from random import randrange\n",
    "\n",
    "def paymentMethod_expiryMonth(row):\n",
    "    return randrange(12)"
   ]
  },
  {
   "cell_type": "code",
   "execution_count": 102,
   "metadata": {},
   "outputs": [],
   "source": [
    "ml_set['paymentMethod_expiryMonth'] = ml_set.apply(paymentMethod_expiryMonth, axis = 1)"
   ]
  },
  {
   "cell_type": "code",
   "execution_count": 103,
   "metadata": {},
   "outputs": [],
   "source": [
    "from random import randrange\n",
    "\n",
    "def paymentMethod_expiryYear(row):\n",
    "    start_year = randrange(2018,2020)\n",
    "    return randrange(start_year, start_year + 10)"
   ]
  },
  {
   "cell_type": "code",
   "execution_count": 104,
   "metadata": {},
   "outputs": [],
   "source": [
    "ml_set['paymentMethod_expiryYear'] = ml_set.apply(paymentMethod_expiryYear, axis = 1)"
   ]
  },
  {
   "cell_type": "code",
   "execution_count": null,
   "metadata": {},
   "outputs": [],
   "source": [
    "def get_year():\n",
    "    return random.choice([2020, 2019])"
   ]
  },
  {
   "cell_type": "code",
   "execution_count": null,
   "metadata": {},
   "outputs": [],
   "source": [
    "def get_fraund_month():\n",
    "    return random.choice([7, 8, 11, 12])"
   ]
  },
  {
   "cell_type": "code",
   "execution_count": null,
   "metadata": {},
   "outputs": [],
   "source": [
    "def get_nonfraund_month():\n",
    "    return random.randint(1, 12)"
   ]
  },
  {
   "cell_type": "code",
   "execution_count": null,
   "metadata": {},
   "outputs": [],
   "source": [
    "def get_day():\n",
    "    return random.randint(1, 31)"
   ]
  },
  {
   "cell_type": "code",
   "execution_count": null,
   "metadata": {},
   "outputs": [],
   "source": [
    "def get_fraund_time():\n",
    "    hour = random.randint(1, 4)\n",
    "    mn = random.randint(0, 60)\n",
    "    s = random.randint(0, 60)\n",
    "    return f\"{hour}:{mn}:{s}\""
   ]
  },
  {
   "cell_type": "code",
   "execution_count": null,
   "metadata": {},
   "outputs": [],
   "source": [
    "def get_nonfraund_time():\n",
    "    hour = random.randint(0, 23)\n",
    "    mn = random.randint(0, 60)\n",
    "    s = random.randint(0, 60)\n",
    "    return f\"{hour}:{mn}:{s}\""
   ]
  },
  {
   "cell_type": "code",
   "execution_count": null,
   "metadata": {},
   "outputs": [],
   "source": []
  },
  {
   "cell_type": "code",
   "execution_count": null,
   "metadata": {},
   "outputs": [],
   "source": []
  },
  {
   "cell_type": "code",
   "execution_count": 105,
   "metadata": {},
   "outputs": [],
   "source": [
    "from datetime import datetime\n",
    "from datetime import timedelta\n",
    "\n",
    "\n",
    "def get_fraud_transaction_time(row):\n",
    "    start_date = datetime.strptime('1/1/2019 1:30 PM', '%m/%d/%Y %I:%M %p')\n",
    "    end_date = datetime.strptime('12/1/2020 1:30 PM', '%m/%d/%Y %I:%M %p')\n",
    "    delta = end_date - start_date\n",
    "    int_delta = (delta.days * 24 * 60 * 60) + delta.seconds\n",
    "    random_second = randrange(int_delta)\n",
    "    return start_date + timedelta(seconds=random_second)\n"
   ]
  },
  {
   "cell_type": "code",
   "execution_count": 106,
   "metadata": {},
   "outputs": [],
   "source": [
    "ml_set['transaction_time'] = ml_set.apply(get_transaction_time, axis = 1)"
   ]
  },
  {
   "cell_type": "code",
   "execution_count": 107,
   "metadata": {},
   "outputs": [
    {
     "data": {
      "text/plain": [
       "0      2020-09-05 23:30:39\n",
       "1      2020-08-04 07:08:00\n",
       "2      2020-08-02 18:52:19\n",
       "3      2020-06-24 18:42:29\n",
       "4      2020-03-19 18:53:16\n",
       "5      2020-06-28 18:50:40\n",
       "6      2020-03-29 08:23:50\n",
       "7      2020-04-05 17:36:24\n",
       "8      2020-03-12 14:03:59\n",
       "9      2020-03-05 09:18:53\n",
       "10     2020-04-30 10:58:41\n",
       "11     2020-01-07 14:57:15\n",
       "12     2020-03-08 19:34:13\n",
       "13     2020-02-07 04:40:01\n",
       "14     2020-05-02 05:53:13\n",
       "15     2020-06-08 23:14:11\n",
       "16     2020-03-17 13:54:58\n",
       "17     2020-02-20 18:03:31\n",
       "18     2020-01-04 07:07:53\n",
       "19     2020-04-01 21:50:05\n",
       "20     2020-09-17 10:45:14\n",
       "21     2020-06-28 18:47:17\n",
       "22     2020-05-29 20:49:17\n",
       "23     2020-07-26 13:26:17\n",
       "24     2020-02-17 18:46:12\n",
       "25     2020-01-14 13:41:03\n",
       "26     2020-04-30 15:31:16\n",
       "27     2020-03-30 07:55:11\n",
       "28     2020-10-01 05:54:12\n",
       "29     2020-02-03 10:07:59\n",
       "               ...        \n",
       "9970   2020-05-03 15:50:02\n",
       "9971   2020-03-01 06:32:46\n",
       "9972   2020-05-02 22:54:47\n",
       "9973   2020-05-10 19:53:44\n",
       "9974   2020-03-28 05:54:16\n",
       "9975   2020-05-24 15:36:23\n",
       "9976   2020-04-08 23:07:18\n",
       "9977   2020-08-17 20:33:04\n",
       "9978   2020-03-04 11:28:31\n",
       "9979   2020-09-04 05:08:57\n",
       "9980   2020-09-24 18:55:13\n",
       "9981   2020-02-19 16:28:53\n",
       "9982   2020-06-02 17:27:19\n",
       "9983   2020-01-27 07:47:02\n",
       "9984   2020-06-03 09:18:53\n",
       "9985   2020-04-16 03:05:23\n",
       "9986   2020-01-02 07:52:32\n",
       "9987   2020-03-19 09:34:58\n",
       "9988   2020-05-04 04:15:46\n",
       "9989   2020-05-09 06:17:46\n",
       "9990   2020-04-03 17:03:18\n",
       "9991   2020-05-14 18:23:56\n",
       "9992   2020-04-25 18:16:28\n",
       "9993   2020-07-03 14:24:11\n",
       "9994   2020-03-21 20:41:23\n",
       "9995   2020-01-27 17:27:34\n",
       "9996   2020-06-10 19:05:02\n",
       "9997   2020-07-12 08:15:53\n",
       "9998   2020-04-12 22:12:53\n",
       "9999   2020-08-27 17:59:06\n",
       "Name: transaction_time, Length: 10000, dtype: datetime64[ns]"
      ]
     },
     "execution_count": 107,
     "metadata": {},
     "output_type": "execute_result"
    }
   ],
   "source": [
    "ml_set['transaction_time']"
   ]
  },
  {
   "cell_type": "code",
   "execution_count": 108,
   "metadata": {},
   "outputs": [],
   "source": [
    "def label_transaction(row):\n",
    "    return  random.randrange(2)"
   ]
  },
  {
   "cell_type": "code",
   "execution_count": 109,
   "metadata": {},
   "outputs": [],
   "source": [
    "ml_set['class'] = ml_set.apply(label_transaction, axis = 1)"
   ]
  },
  {
   "cell_type": "code",
   "execution_count": 110,
   "metadata": {},
   "outputs": [
    {
     "data": {
      "text/plain": [
       "1    5036\n",
       "0    4964\n",
       "Name: class, dtype: int64"
      ]
     },
     "execution_count": 110,
     "metadata": {},
     "output_type": "execute_result"
    }
   ],
   "source": [
    "ml_set['class'].value_counts()"
   ]
  },
  {
   "cell_type": "code",
   "execution_count": 111,
   "metadata": {},
   "outputs": [
    {
     "data": {
      "text/plain": [
       "10000"
      ]
     },
     "execution_count": 111,
     "metadata": {},
     "output_type": "execute_result"
    }
   ],
   "source": [
    "ml_set.head(5)\n",
    "len(ml_set)"
   ]
  },
  {
   "cell_type": "code",
   "execution_count": 112,
   "metadata": {},
   "outputs": [],
   "source": [
    "ml_set.to_csv('test.csv', index=False)"
   ]
  },
  {
   "cell_type": "code",
   "execution_count": null,
   "metadata": {},
   "outputs": [],
   "source": []
  }
 ],
 "metadata": {
  "kernelspec": {
   "display_name": "Python 3",
   "language": "python",
   "name": "python3"
  },
  "language_info": {
   "codemirror_mode": {
    "name": "ipython",
    "version": 3
   },
   "file_extension": ".py",
   "mimetype": "text/x-python",
   "name": "python",
   "nbconvert_exporter": "python",
   "pygments_lexer": "ipython3",
   "version": "3.8.3"
  }
 },
 "nbformat": 4,
 "nbformat_minor": 4
}
